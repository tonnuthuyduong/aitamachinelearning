{
 "cells": [
  {
   "cell_type": "code",
   "execution_count": 236,
   "id": "4f1eeaba",
   "metadata": {},
   "outputs": [
    {
     "name": "stderr",
     "output_type": "stream",
     "text": [
      "/Users/duongton/opt/anaconda3/lib/python3.8/site-packages/ipykernel/ipkernel.py:287: DeprecationWarning:\n",
      "\n",
      "`should_run_async` will not call `transform_cell` automatically in the future. Please pass the result to `transformed_cell` argument and any exception that happen during thetransform in `preprocessing_exc_tuple` in IPython 7.17 and above.\n",
      "\n"
     ]
    }
   ],
   "source": [
    "import pandas as pd\n",
    "import seaborn as sns\n",
    "import matplotlib.pyplot as plt\n",
    "import matplotlib.ticker as ticker\n",
    "import plotly.express as px\n",
    "import plotly.offline as pyo\n",
    "from wordcloud import WordCloud, STOPWORDS"
   ]
  },
  {
   "cell_type": "markdown",
   "id": "d59c56b8",
   "metadata": {},
   "source": [
    "# Am I the A-hole? A moral classification "
   ]
  },
  {
   "cell_type": "markdown",
   "id": "1de010a1",
   "metadata": {},
   "source": [
    "## Getting data through Reddit API"
   ]
  },
  {
   "cell_type": "markdown",
   "id": "07a20b9f",
   "metadata": {},
   "source": [
    "<details><summary><u>Reddit Scrapper</u></summary>\n",
    "<p>\n",
    "\n",
    "```python\n",
    "\n",
    "import requests\n",
    "app_id = 'appid'\n",
    "secret = 'secret'\n",
    "auth = requests.auth.HTTPBasicAuth(app_id, secret)\n",
    "\n",
    "headers = {'User-Agent': 'Tutorial2/0.0.1'}\n",
    "res = requests.post('https://www.reddit.com/api/v1/access_token',\n",
    "auth=auth, data=data, headers=headers)\n",
    "\n",
    "token = res.json()['access_token']\n",
    "headers['Authorization'] = 'bearer {}'.format(token)\n",
    "requests.get('https://oauth.reddit.com/api/v1/me', headers=headers)\n",
    "\n",
    "token = \"\"\n",
    "api = 'https://oauth.reddit.com'\n",
    "res = requests.get('{}/r/AITAFiltered/new'.format(api), headers=headers, params={'limit': '50000'})\n",
    "result = res.json()\n",
    "\n",
    "```\n",
    "</p>\n",
    "</details>\n",
    "\n",
    "The result is saved as json file for further analysis"
   ]
  },
  {
   "cell_type": "markdown",
   "id": "0cbe3ce2",
   "metadata": {},
   "source": [
    "## Loading the data"
   ]
  },
  {
   "cell_type": "code",
   "execution_count": 9,
   "id": "0b97a3c8",
   "metadata": {},
   "outputs": [],
   "source": [
    "import json\n",
    "with open('aita_top_posts.json') as f:\n",
    "    json_data = f.read()\n",
    "    aita = json.loads(json_data)"
   ]
  },
  {
   "cell_type": "code",
   "execution_count": 10,
   "metadata": {},
   "outputs": [],
   "source": [
    "import pandas as pd\n",
    "df = pd.DataFrame({'title':[],'text':[],'verdict' : []})\n",
    "for i in range(2,len(aita)):\n",
    "    try:\n",
    "        df.loc[i,['title','text','verdict']]=  [aita[i]['title'],aita[i]['crosspost_parent_list'][0]['selftext'],\n",
    "                                    aita[i]['crosspost_parent_list'][0]['link_flair_text']]\n",
    "    except:\n",
    "        pass \n",
    "df = df[df.text != '[deleted]']"
   ]
  },
  {
   "cell_type": "code",
   "execution_count": 11,
   "id": "1b8374ab",
   "metadata": {},
   "outputs": [],
   "source": [
    "df = df[df.verdict != 'Not enough info']"
   ]
  },
  {
   "cell_type": "markdown",
   "id": "b934ddbb",
   "metadata": {},
   "source": [
    "## Cleaning and pre-processing"
   ]
  },
  {
   "cell_type": "markdown",
   "id": "7d7f44a0",
   "metadata": {},
   "source": [
    "Checking distribution across values"
   ]
  },
  {
   "cell_type": "code",
   "execution_count": 12,
   "id": "f4cef324",
   "metadata": {},
   "outputs": [
    {
     "data": {
      "text/plain": [
       "<AxesSubplot:xlabel='verdict', ylabel='count'>"
      ]
     },
     "execution_count": 12,
     "metadata": {},
     "output_type": "execute_result"
    },
    {
     "data": {
      "image/png": "[encoded data removed]",
      "text/plain": [
       "<Figure size 432x288 with 1 Axes>"
      ]
     },
     "metadata": {
      "needs_background": "light"
     },
     "output_type": "display_data"
    }
   ],
   "source": [
    "import seaborn as sns\n",
    "sns.countplot(x = 'verdict', data = df, palette = \"blend:#7AB,#EDA\")"
   ]
  },
  {
   "cell_type": "markdown",
   "id": "32e3176f",
   "metadata": {},
   "source": [
    "As we can see, there is some slight imbalance between Not the A-hole and other categories. Furtheremore, we just want Asshole or not A-hole. So, I'm going to group Everyone sucks with Asshole (because the poster is also at fault here) and No A-holes here with Not the A-hole (beacause the poster is not at fault here)."
   ]
  },
  {
   "cell_type": "code",
   "execution_count": 13,
   "id": "444ebb28",
   "metadata": {},
   "outputs": [
    {
     "data": {
      "text/plain": [
       "<AxesSubplot:xlabel='verdict', ylabel='count'>"
      ]
     },
     "execution_count": 13,
     "metadata": {},
     "output_type": "execute_result"
    },
    {
     "data": {
      "image/png": "[encoded data removed]",
      "text/plain": [
       "<Figure size 432x288 with 1 Axes>"
      ]
     },
     "metadata": {
      "needs_background": "light"
     },
     "output_type": "display_data"
    }
   ],
   "source": [
    "df.loc[df['verdict'] == 'Everyone Sucks', 'verdict'] = 'Asshole'\n",
    "df.loc[df['verdict'] == 'No A-holes here', 'verdict'] = 'Not the A-hole'\n",
    "sns.countplot(x = 'verdict', data = df, palette = \"blend:#7AB,#EDA\")"
   ]
  },
  {
   "cell_type": "markdown",
   "id": "385d19ce",
   "metadata": {},
   "source": [
    "After grouping, we have a really nice distribution between two classes. "
   ]
  },
  {
   "cell_type": "markdown",
   "id": "15e8a6ab",
   "metadata": {},
   "source": [
    "### Text cleaning and Preprocessing"
   ]
  },
  {
   "cell_type": "code",
   "execution_count": 14,
   "id": "242d2d15",
   "metadata": {},
   "outputs": [],
   "source": [
    "import nltk\n",
    "from gensim.parsing.preprocessing import remove_stopwords\n",
    "from nltk.corpus import opinion_lexicon\n",
    "from nltk.tokenize import sent_tokenize\n",
    "from nltk.tokenize import word_tokenize\n",
    "from nltk.tokenize import RegexpTokenizer\n",
    "from nltk.sentiment import SentimentIntensityAnalyzer as SIA\n",
    "from nltk.corpus import stopwords\n",
    "stop = stopwords.words('english')\n",
    "import nltk.sentiment\n",
    "tokenizer = RegexpTokenizer(r'\\w+')"
   ]
  },
  {
   "cell_type": "markdown",
   "id": "2ecffe51",
   "metadata": {},
   "source": [
    "So there are two texts that I will work on: one is the tile for topic modelling. The second is the text for classification.\n",
    "I use title for topic modelling because the title is more condense and straight to the point what the post is about. When done on the selftext, topic modelling picks out lots of pronouns and generic verbs like make, do, take, etc. Furthermore, topic modelling done on title takes shorter time.\n",
    "#### Title"
   ]
  },
  {
   "cell_type": "code",
   "execution_count": 189,
   "id": "75ea0ed3",
   "metadata": {},
   "outputs": [
    {
     "name": "stderr",
     "output_type": "stream",
     "text": [
      "/Users/duongton/opt/anaconda3/lib/python3.8/site-packages/ipykernel/ipkernel.py:287: DeprecationWarning:\n",
      "\n",
      "`should_run_async` will not call `transform_cell` automatically in the future. Please pass the result to `transformed_cell` argument and any exception that happen during thetransform in `preprocessing_exc_tuple` in IPython 7.17 and above.\n",
      "\n"
     ]
    }
   ],
   "source": [
    "df['title'] = df['title'].apply(lambda x: x.replace(\"'m\",\" am\"))\n",
    "df['title'] = df['title'].apply(lambda x: x.replace(\"n't\",\" not\"))\n",
    "df['title'] = df['title'].apply(lambda x: x.replace(\"'ve\",\" have\"))\n",
    "df['title'] = df['title'].apply(lambda x: x.replace(\"'s\",\" is\"))\n",
    "df['title'] = df['title'].apply(lambda x: x.replace(\"aita\",\" \"))\n",
    "df['title'] = df['title'].apply(lambda x: x.replace(\"'re\",\" are\"))\n",
    "df.title = df.title.apply(lambda x: x.replace(\"AITA\",\" \"))\n",
    "df.title = df.title.apply(lambda x: x.replace(\"WIBTA\",\" \"))\n",
    "df.title = df.title.apply(lambda x: x.replace(\"for\",\"\"))\n"
   ]
  },
  {
   "cell_type": "code",
   "execution_count": 190,
   "id": "4180b8a8",
   "metadata": {},
   "outputs": [
    {
     "name": "stderr",
     "output_type": "stream",
     "text": [
      "/Users/duongton/opt/anaconda3/lib/python3.8/site-packages/ipykernel/ipkernel.py:287: DeprecationWarning:\n",
      "\n",
      "`should_run_async` will not call `transform_cell` automatically in the future. Please pass the result to `transformed_cell` argument and any exception that happen during thetransform in `preprocessing_exc_tuple` in IPython 7.17 and above.\n",
      "\n"
     ]
    },
    {
     "data": {
      "text/html": [
       "<div>\n",
       "<style scoped>\n",
       "    .dataframe tbody tr th:only-of-type {\n",
       "        vertical-align: middle;\n",
       "    }\n",
       "\n",
       "    .dataframe tbody tr th {\n",
       "        vertical-align: top;\n",
       "    }\n",
       "\n",
       "    .dataframe thead th {\n",
       "        text-align: right;\n",
       "    }\n",
       "</style>\n",
       "<table border=\"1\" class=\"dataframe\">\n",
       "  <thead>\n",
       "    <tr style=\"text-align: right;\">\n",
       "      <th></th>\n",
       "      <th>title</th>\n",
       "      <th>text</th>\n",
       "      <th>verdict</th>\n",
       "      <th>title_tokenized</th>\n",
       "    </tr>\n",
       "  </thead>\n",
       "  <tbody>\n",
       "    <tr>\n",
       "      <th>2</th>\n",
       "      <td>break patient confidentiality tell friend boyf...</td>\n",
       "      <td>This has been eating me up inside for the past...</td>\n",
       "      <td>Asshole</td>\n",
       "      <td>[break, patient, confidentiality, tell, friend...</td>\n",
       "    </tr>\n",
       "    <tr>\n",
       "      <th>3</th>\n",
       "      <td>lose pet owner pay advertise reward ?</td>\n",
       "      <td>This weekend I was walking through the park an...</td>\n",
       "      <td>Everyone Sucks</td>\n",
       "      <td>[keep, lose, pet, owner, pay, advertise, reward]</td>\n",
       "    </tr>\n",
       "    <tr>\n",
       "      <th>5</th>\n",
       "      <td>let husband funeral baby conceive Mistress ?</td>\n",
       "      <td>This is extremely difficult to talk about with...</td>\n",
       "      <td>No A-holes here</td>\n",
       "      <td>[let, husband, funeral, baby, conceive, mistress]</td>\n",
       "    </tr>\n",
       "    <tr>\n",
       "      <th>6</th>\n",
       "      <td>piss parent Athens Georgia instead Athens Gree...</td>\n",
       "      <td>I'm 17f  always wanted to go to Greece. I lov...</td>\n",
       "      <td>Not the A-hole</td>\n",
       "      <td>[piss, parent, take, athens, georgia, instead,...</td>\n",
       "    </tr>\n",
       "    <tr>\n",
       "      <th>7</th>\n",
       "      <td>refuse use word `` pregnant `` I tell people w...</td>\n",
       "      <td>I know this is a weird hang up, but I was rais...</td>\n",
       "      <td>Asshole</td>\n",
       "      <td>[refuse, use, word, pregnant, i, tell, people,...</td>\n",
       "    </tr>\n",
       "    <tr>\n",
       "      <th>...</th>\n",
       "      <td>...</td>\n",
       "      <td>...</td>\n",
       "      <td>...</td>\n",
       "      <td>...</td>\n",
       "    </tr>\n",
       "    <tr>\n",
       "      <th>9994</th>\n",
       "      <td>refuse turn Kanye West GF ’ s friend request I</td>\n",
       "      <td>This is sort of a petty squabble I had but my ...</td>\n",
       "      <td>Asshole</td>\n",
       "      <td>[refuse, turn, kanye, west, gf, s, friend, req...</td>\n",
       "    </tr>\n",
       "    <tr>\n",
       "      <th>9995</th>\n",
       "      <td>suggest wife ’ t wear certain leggings ?</td>\n",
       "      <td>Backstory- we live in a low income area and th...</td>\n",
       "      <td>Asshole</td>\n",
       "      <td>[suggest, wife, doesn, t, wear, certain, leggi...</td>\n",
       "    </tr>\n",
       "    <tr>\n",
       "      <th>9996</th>\n",
       "      <td>tell sister leave angry kid loud noise MY home</td>\n",
       "      <td>My little sister and I live in the same city. ...</td>\n",
       "      <td>Not the A-hole</td>\n",
       "      <td>[tell, sister, leave, get, angry, kid, make, l...</td>\n",
       "    </tr>\n",
       "    <tr>\n",
       "      <th>9997</th>\n",
       "      <td>I wo test blood possibly help sister ?</td>\n",
       "      <td>I'M 21, SHE IS 23!\\n\\nSorry if that title soun...</td>\n",
       "      <td>Not the A-hole</td>\n",
       "      <td>[i, wo, test, blood, possibly, help, sister]</td>\n",
       "    </tr>\n",
       "    <tr>\n",
       "      <th>9999</th>\n",
       "      <td>honest wife I ca mother wrong ?</td>\n",
       "      <td>I've been married for five years and there is ...</td>\n",
       "      <td>Asshole</td>\n",
       "      <td>[honest, wife, i, ca, mother, wrong]</td>\n",
       "    </tr>\n",
       "  </tbody>\n",
       "</table>\n",
       "<p>8789 rows × 4 columns</p>\n",
       "</div>"
      ],
      "text/plain": [
       "                                                  title  \\\n",
       "2     break patient confidentiality tell friend boyf...   \n",
       "3                 lose pet owner pay advertise reward ?   \n",
       "5          let husband funeral baby conceive Mistress ?   \n",
       "6     piss parent Athens Georgia instead Athens Gree...   \n",
       "7     refuse use word `` pregnant `` I tell people w...   \n",
       "...                                                 ...   \n",
       "9994     refuse turn Kanye West GF ’ s friend request I   \n",
       "9995           suggest wife ’ t wear certain leggings ?   \n",
       "9996     tell sister leave angry kid loud noise MY home   \n",
       "9997             I wo test blood possibly help sister ?   \n",
       "9999                    honest wife I ca mother wrong ?   \n",
       "\n",
       "                                                   text          verdict  \\\n",
       "2     This has been eating me up inside for the past...          Asshole   \n",
       "3     This weekend I was walking through the park an...   Everyone Sucks   \n",
       "5     This is extremely difficult to talk about with...  No A-holes here   \n",
       "6      I'm 17f  always wanted to go to Greece. I lov...   Not the A-hole   \n",
       "7     I know this is a weird hang up, but I was rais...          Asshole   \n",
       "...                                                 ...              ...   \n",
       "9994  This is sort of a petty squabble I had but my ...          Asshole   \n",
       "9995  Backstory- we live in a low income area and th...          Asshole   \n",
       "9996  My little sister and I live in the same city. ...   Not the A-hole   \n",
       "9997  I'M 21, SHE IS 23!\\n\\nSorry if that title soun...   Not the A-hole   \n",
       "9999  I've been married for five years and there is ...          Asshole   \n",
       "\n",
       "                                        title_tokenized  \n",
       "2     [break, patient, confidentiality, tell, friend...  \n",
       "3      [keep, lose, pet, owner, pay, advertise, reward]  \n",
       "5     [let, husband, funeral, baby, conceive, mistress]  \n",
       "6     [piss, parent, take, athens, georgia, instead,...  \n",
       "7     [refuse, use, word, pregnant, i, tell, people,...  \n",
       "...                                                 ...  \n",
       "9994  [refuse, turn, kanye, west, gf, s, friend, req...  \n",
       "9995  [suggest, wife, doesn, t, wear, certain, leggi...  \n",
       "9996  [tell, sister, leave, get, angry, kid, make, l...  \n",
       "9997       [i, wo, test, blood, possibly, help, sister]  \n",
       "9999               [honest, wife, i, ca, mother, wrong]  \n",
       "\n",
       "[8789 rows x 4 columns]"
      ]
     },
     "execution_count": 190,
     "metadata": {},
     "output_type": "execute_result"
    }
   ],
   "source": [
    "df.title  = df.title.apply(remove_stopwords)\n",
    "df"
   ]
  },
  {
   "cell_type": "code",
   "execution_count": 191,
   "id": "156a7a74",
   "metadata": {},
   "outputs": [
    {
     "name": "stderr",
     "output_type": "stream",
     "text": [
      "/Users/duongton/opt/anaconda3/lib/python3.8/site-packages/ipykernel/ipkernel.py:287: DeprecationWarning:\n",
      "\n",
      "`should_run_async` will not call `transform_cell` automatically in the future. Please pass the result to `transformed_cell` argument and any exception that happen during thetransform in `preprocessing_exc_tuple` in IPython 7.17 and above.\n",
      "\n"
     ]
    }
   ],
   "source": [
    "tokenizer = RegexpTokenizer(r'\\w+')\n",
    "df['title_tokenized'] = df['title'].apply(lambda x: tokenizer.tokenize(x.lower()))"
   ]
  },
  {
   "cell_type": "code",
   "execution_count": 15,
   "id": "f12f5956",
   "metadata": {},
   "outputs": [],
   "source": [
    "binarized_df = pd.get_dummies(df['verdict'])\n",
    "df = pd.concat([df, binarized_df], axis=1)\n"
   ]
  },
  {
   "cell_type": "code",
   "execution_count": 202,
   "id": "0a26659c",
   "metadata": {},
   "outputs": [
    {
     "name": "stderr",
     "output_type": "stream",
     "text": [
      "/Users/duongton/opt/anaconda3/lib/python3.8/site-packages/ipykernel/ipkernel.py:287: DeprecationWarning:\n",
      "\n",
      "`should_run_async` will not call `transform_cell` automatically in the future. Please pass the result to `transformed_cell` argument and any exception that happen during thetransform in `preprocessing_exc_tuple` in IPython 7.17 and above.\n",
      "\n"
     ]
    }
   ],
   "source": [
    "from sklearn.feature_extraction.text import CountVectorizer\n",
    "transformer = CountVectorizer()\n",
    "vect = transformer.fit(df['text'])\n",
    "#print(len(vect.vocabulary_))\n",
    "#print(len(vect.get_feature_names()))\n",
    "#transform all dataset\n",
    "data_transform = vect.transform(df['text'])"
   ]
  },
  {
   "cell_type": "code",
   "execution_count": 203,
   "id": "2df0565c",
   "metadata": {},
   "outputs": [
    {
     "name": "stderr",
     "output_type": "stream",
     "text": [
      "/Users/duongton/opt/anaconda3/lib/python3.8/site-packages/ipykernel/ipkernel.py:287: DeprecationWarning:\n",
      "\n",
      "`should_run_async` will not call `transform_cell` automatically in the future. Please pass the result to `transformed_cell` argument and any exception that happen during thetransform in `preprocessing_exc_tuple` in IPython 7.17 and above.\n",
      "\n"
     ]
    }
   ],
   "source": [
    "#apply tfidf\n",
    "from sklearn.feature_extraction.text import TfidfTransformer\n",
    "\n",
    "tfidf_trans = TfidfTransformer()\n",
    "tfit = tfidf_trans.fit(data_transform)\n",
    "data_tfidf = tfit.transform(data_transform)"
   ]
  },
  {
   "cell_type": "markdown",
   "id": "3151a78e",
   "metadata": {},
   "source": [
    "## Topic Modelling"
   ]
  },
  {
   "cell_type": "code",
   "execution_count": 135,
   "id": "10c00341",
   "metadata": {},
   "outputs": [
    {
     "name": "stderr",
     "output_type": "stream",
     "text": [
      "/Users/duongton/opt/anaconda3/lib/python3.8/site-packages/ipykernel/ipkernel.py:287: DeprecationWarning: `should_run_async` will not call `transform_cell` automatically in the future. Please pass the result to `transformed_cell` argument and any exception that happen during thetransform in `preprocessing_exc_tuple` in IPython 7.17 and above.\n",
      "  and should_run_async(code)\n"
     ]
    }
   ],
   "source": [
    "df['tokens'] = df['tokenized'].apply(lambda x: tokenizer.tokenize(x.lower()))"
   ]
  },
  {
   "cell_type": "code",
   "execution_count": 192,
   "id": "f2460956",
   "metadata": {},
   "outputs": [
    {
     "name": "stderr",
     "output_type": "stream",
     "text": [
      "/Users/duongton/opt/anaconda3/lib/python3.8/site-packages/ipykernel/ipkernel.py:287: DeprecationWarning:\n",
      "\n",
      "`should_run_async` will not call `transform_cell` automatically in the future. Please pass the result to `transformed_cell` argument and any exception that happen during thetransform in `preprocessing_exc_tuple` in IPython 7.17 and above.\n",
      "\n"
     ]
    }
   ],
   "source": [
    "from gensim import corpora\n",
    "from gensim import models\n",
    "\n",
    "aitadict = corpora.Dictionary(df.title_tokenized.tolist())\n",
    "aitacorp = [aitadict.doc2bow(x) for x in df.title_tokenized.tolist()]"
   ]
  },
  {
   "cell_type": "code",
   "execution_count": 193,
   "id": "dd31b41d",
   "metadata": {},
   "outputs": [
    {
     "name": "stderr",
     "output_type": "stream",
     "text": [
      "/Users/duongton/opt/anaconda3/lib/python3.8/site-packages/ipykernel/ipkernel.py:287: DeprecationWarning:\n",
      "\n",
      "`should_run_async` will not call `transform_cell` automatically in the future. Please pass the result to `transformed_cell` argument and any exception that happen during thetransform in `preprocessing_exc_tuple` in IPython 7.17 and above.\n",
      "\n"
     ]
    }
   ],
   "source": [
    "import gensim\n",
    "from gensim import models\n",
    "\n",
    "aitamodel = gensim.models.ldamodel.LdaModel(corpus=aitacorp,id2word=aitadict,\n",
    "num_topics=10, passes = 10)"
   ]
  },
  {
   "cell_type": "code",
   "execution_count": 194,
   "id": "93bd8b7b",
   "metadata": {},
   "outputs": [
    {
     "name": "stderr",
     "output_type": "stream",
     "text": [
      "/Users/duongton/opt/anaconda3/lib/python3.8/site-packages/ipykernel/ipkernel.py:287: DeprecationWarning:\n",
      "\n",
      "`should_run_async` will not call `transform_cell` automatically in the future. Please pass the result to `transformed_cell` argument and any exception that happen during thetransform in `preprocessing_exc_tuple` in IPython 7.17 and above.\n",
      "\n",
      "/Users/duongton/opt/anaconda3/lib/python3.8/site-packages/pyLDAvis/_prepare.py:246: FutureWarning:\n",
      "\n",
      "In a future version of pandas all arguments of DataFrame.drop except for the argument 'labels' will be keyword-only\n",
      "\n"
     ]
    },
    {
     "data": {
      "text/html": [
       "\n",
       "<link rel=\"stylesheet\" type=\"text/css\" href=\"https://cdn.jsdelivr.net/gh/bmabey/pyLDAvis@3.3.1/pyLDAvis/js/ldavis.v1.0.0.css\">\n",
       "\n",
       "\n",
       "<div id=\"ldavis_el64931403817778183369408646653\"></div>\n",
       "<script type=\"text/javascript\">\n",
       "\n",
       "var ldavis_el64931403817778183369408646653_data = {\"mdsDat\": {\"x\": [-0.08526168036454587, -0.04571398281831671, -0.061011157606451705, -0.05010926973793067, 0.0076271815336601476, -0.02665018590779092, 0.1421642854607558, 0.03360296584035734, 0.23502651861751422, -0.14967467501725218], \"y\": [-0.00827289980298795, -0.05826537648218324, -0.18323708406387162, 0.14870877186871853, -0.056929851732283335, -0.012759520496178144, 0.12414269064078896, -0.09851835653430495, 0.0009925350404869587, 0.1441390915618145], \"topics\": [1, 2, 3, 4, 5, 6, 7, 8, 9, 10], \"cluster\": [1, 1, 1, 1, 1, 1, 1, 1, 1, 1], \"Freq\": [14.395439462002615, 10.735088775291214, 10.383767523671409, 10.206549191338492, 9.703647100055521, 9.338409736914121, 9.330409370378815, 9.27755991889992, 8.622305561097216, 8.00682336035067]}, \"tinfo\": {\"Term\": [\"wed\", \"child\", \"s\", \"i\", \"friend\", \"son\", \"husband\", \"tell\", \"parent\", \"year\", \"old\", \"for\", \"girlfriend\", \"mom\", \"ask\", \"refuse\", \"want\", \"daughter\", \"away\", \"my\", \"sister\", \"wife\", \"pay\", \"pregnant\", \"friends\", \"house\", \"boyfriend\", \"mad\", \"t\", \"let\", \"adopt\", \"punishment\", \"teacher\", \"soon\", \"secret\", \"defend\", \"approval\", \"heirloom\", \"deny\", \"buddy\", \"parental\", \"seventeen\", \"begin\", \"childcare\", \"fil\", \"skip\", \"adderall\", \"compare\", \"ence\", \"condone\", \"14k\", \"ownership\", \"sport\", \"2500\", \"welcome\", \"devices\", \"ignore\", \"17\", \"license\", \"pronouns\", \"mad\", \"fund\", \"son\", \"college\", \"ex\", \"right\", \"s\", \"engagement\", \"save\", \"come\", \"ring\", \"children\", \"need\", \"tell\", \"girlfriend\", \"wife\", \"meals\", \"husband\", \"spend\", \"time\", \"i\", \"aita\", \"want\", \"talk\", \"buy\", \"daughter\", \"sister\", \"kid\", \"upset\", \"family\", \"money\", \"mom\", \"brother\", \"refuse\", \"nickname\", \"dumb\", \"sacrifice\", \"abortion\", \"white\", \"cope\", \"cheat\", \"dumbass\", \"acquaintance\", \"touch\", \"toxic\", \"fifth\", \"renewal\", \"vow\", \"compete\", \"own\", \"definitely\", \"lottery\", \"winnings\", \"thing\", \"double\", \"shorter\", \"tantrums\", \"nonpaying\", \"dark\", \"window\", \"blind\", \"roomba\", \"combine\", \"finance\", \"tattoo\", \"relationship\", \"live\", \"i\", \"siblings\", \"want\", \"stepson\", \"grandmother\", \"wed\", \"date\", \"best\", \"think\", \"tell\", \"advance\", \"joke\", \"25f\", \"girlfriends\", \"in\", \"plan\", \"people\", \"wrong\", \"law\", \"daughter\", \"mom\", \"food\", \"if\", \"wife\", \"kid\", \"like\", \"sister\", \"laws\", \"son\", \"gf\", \"time\", \"lie\", \"t\", \"refuse\", \"house\", \"husband\", \"friend\", \"shower\", \"allowance\", \"1\", \"serve\", \"crash\", \"somebody\", \"believe\", \"graduation\", \"3\", \"wouldn\", \"line\", \"granddaughter\", \"ill\", \"terminally\", \"worker\", \"bus\", \"copyright\", \"tiktok\", \"train\", \"flu\", \"insistence\", \"theree\", \"racist\", \"risk\", \"has\", \"caregiver\", \"pedestrian\", \"supply\", \"princess\", \"failures\", \"year\", \"old\", \"hire\", \"sleep\", \"apologize\", \"wet\", \"t\", \"d\", \"daughter\", \"blast\", \"stepsister\", \"bed\", \"pick\", \"autistic\", \"i\", \"s\", \"boyfriend\", \"tell\", \"sister\", \"friends\", \"time\", \"school\", \"wife\", \"pay\", \"mom\", \"cut\", \"kid\", \"group\", \"family\", \"lose\", \"brother\", \"day\", \"eat\", \"baby\", \"gf\", \"parent\", \"suck\", \"card\", \"complain\", \"hair\", \"homophobic\", \"lock\", \"smoke\", \"homeless\", \"plastic\", \"asleep\", \"credit\", \"shopping\", \"technically\", \"loud\", \"noise\", \"anxious\", \"enjoy\", \"nd\", \"makeup\", \"unpaid\", \"language\", \"native\", \"russian\", \"did\", \"n\", \"4th\", \"july\", \"wore\", \"outshine\", \"certain\", \"parent\", \"cancel\", \"invite\", \"suggest\", \"tell\", \"ask\", \"steal\", \"wife\", \"wed\", \"watch\", \"ruin\", \"sister\", \"shave\", \"destroy\", \"friend\", \"leave\", \"insist\", \"t\", \"bad\", \"brother\", \"use\", \"girlfriend\", \"wear\", \"stop\", \"house\", \"for\", \"birth\", \"kid\", \"mom\", \"night\", \"s\", \"bf\", \"i\", \"boyfriend\", \"ex\", \"hide\", \"pronounce\", \"aisle\", \"50\", \"blur\", \"correctly\", \"fleur\", \"flur\", \"rhyme\", \"workplace\", \"dump\", \"pool\", \"call\", \"remain\", \"13\", \"amendment\", \"file\", \"technicality\", \"babysitter\", \"calendar\", \"frozen\", \"homemade\", \"marie\", \"pasta\", \"slap\", \"driving\", \"fired\", \"instructor\", \"refused\", \"divide\", \"couple\", \"point\", \"trip\", \"walk\", \"stay\", \"step\", \"annoy\", \"family\", \"let\", \"drive\", \"moms\", \"sister\", \"look\", \"wed\", \"eat\", \"like\", \"daughter\", \"fianc\\u00e9\", \"funeral\", \"middle\", \"dad\", \"vacation\", \"pay\", \"s\", \"want\", \"she\", \"room\", \"i\", \"birthday\", \"sil\", \"son\", \"husband\", \"girlfriend\", \"kid\", \"for\", \"refuse\", \"child\", \"tell\", \"girl\", \"friend\", \"house\", \"request\", \"schedule\", \"encourage\", \"income\", \"grandchildren\", \"fwb\", \"are\", \"few\", \"planning\", \"wasted\", \"wedding\", \"emigrate\", \"accommodate\", \"kanye\", \"west\", \"pervert\", \"bachelorette\", \"dip\", \"sunbathe\", \"fast\", \"reader\", \"over\", \"scenes\", \"since\", \"skips\", \"television\", \"up\", \"advisor\", \"coach\", \"joint\", \"bridesmaid\", \"drop\", \"telling\", \"friends\", \"order\", \"friend\", \"pregnancy\", \"refuse\", \"snap\", \"treat\", \"custody\", \"son\", \"nephew\", \"comment\", \"day\", \"my\", \"s\", \"dad\", \"tell\", \"pay\", \"die\", \"sister\", \"police\", \"care\", \"i\", \"mother\", \"wife\", \"child\", \"like\", \"daughter\", \"think\", \"brother\", \"kid\", \"need\", \"for\", \"aita\", \"answer\", \"69\", \"invest\", \"moron\", \"business\", \"sleeve\", \"boy\", \"state\", \"31\", \"aid\", \"amumble\", \"even\", \"hereditary\", \"loss\", \"today\", \"yelled\", \"correct\", \"makeover\", \"mommy\", \"strictly\", \"ward\", \"childfree\", \"housewife\", \"pray\", \"rosary\", \"trash\", \"cop\", \"buddies\", \"significant\", \"togethers\", \"younger\", \"child\", \"pregnant\", \"laugh\", \"support\", \"husband\", \"hear\", \"handicap\", \"shit\", \"fail\", \"friend\", \"yell\", \"send\", \"blow\", \"tenant\", \"water\", \"older\", \"ask\", \"i\", \"woman\", \"decease\", \"refuse\", \"want\", \"for\", \"pay\", \"wife\", \"my\", \"talk\", \"tell\", \"brother\", \"work\", \"father\", \"try\", \"family\", \"mother\", \"sister\", \"honest\", \"tip\", \"events\", \"paternity\", \"outside\", \"huge\", \"tag\", \"teen\", \"flip\", \"camera\", \"chart\", \"groom\", \"collect\", \"mid\", \"fence\", \"trampoline\", \"document\", \"service\", \"intend\", \"clickbait\", \"hour\", \"curb\", \"16f\", \"court\", \"emotionally\", \"fragile\", \"treatment\", \"celebrate\", \"football\", \"resin\", \"test\", \"kick\", \"stand\", \"sue\", \"away\", \"fiance\", \"donate\", \"house\", \"mom\", \"room\", \"bring\", \"help\", \"seat\", \"embarrass\", \"thanksgiving\", \"wear\", \"and\", \"daughter\", \"sil\", \"car\", \"refuse\", \"leave\", \"baby\", \"throw\", \"pregnancy\", \"try\", \"let\", \"mother\", \"dad\", \"dog\", \"look\", \"wife\", \"sister\", \"i\", \"husband\", \"aita\", \"ask\", \"family\", \"wed\", \"spot\", \"park\", \"bedroom\", \"leash\", \"exclude\", \"holiday\", \"motorcycle\", \"mailbox\", \"overweight\", \"hit\", \"athens\", \"alone\", \"get\", \"sitter\", \"town\", \"cashier\", \"counterfeit\", \"mlm\", \"bill\", \"gave\", \"left\", \"with\", \"mutual\", \"recruit\", \"spirit\", \"cash\", \"deadbeat\", \"cow\", \"warn\", \"area\", \"future\", \"check\", \"niece\", \"the\", \"piss\", \"little\", \"for\", \"dead\", \"body\", \"newborn\", \"girl\", \"separate\", \"cute\", \"anymore\", \"decide\", \"clean\", \"scream\", \"property\", \"to\", \"drink\", \"my\", \"kid\", \"husband\", \"dog\", \"want\", \"brother\", \"tell\", \"friend\", \"mother\", \"wife\", \"parent\", \"child\", \"i\", \"father\", \"ask\", \"daughter\", \"boyfriend\", \"pretty\", \"tv\", \"news\", \"fully\", \"conversation\", \"partially\", \"afraid\", \"pro\", \"h\", \"families\", \"cell\", \"key\", \"herpes\", \"sweet\", \"venue\", \"baker\", \"color\", \"assistant\", \"deaf\", \"grammar\", \"unprofessional\", \"brat\", \"devil\", \"easter\", \"worshiper\", \"accountant\", \"confidential\", \"obligate\", \"professionally\", \"tax\", \"surprise\", \"report\", \"gift\", \"imply\", \"media\", \"adult\", \"flush\", \"cook\", \"daughters\", \"girlfriend\", \"wed\", \"work\", \"return\", \"boyfriend\", \"party\", \"pay\", \"wake\", \"i\", \"cut\", \"dress\", \"bring\", \"toilet\", \"husband\", \"ask\", \"drive\", \"gf\", \"brother\", \"upset\", \"refuse\", \"tell\", \"home\", \"aita\", \"ex\", \"s\", \"sister\", \"phone\", \"neighbor\"], \"Freq\": [629.0, 362.0, 712.0, 1984.0, 630.0, 601.0, 728.0, 1771.0, 298.0, 144.0, 142.0, 391.0, 422.0, 373.0, 501.0, 597.0, 722.0, 920.0, 183.0, 200.0, 842.0, 943.0, 462.0, 178.0, 132.0, 267.0, 241.0, 117.0, 379.0, 306.0, 36.10627592945369, 29.949263706970328, 28.801697830077767, 28.80141758530436, 25.98906914889437, 19.9058419201766, 19.90571715366789, 19.63212723388666, 19.558545705504507, 19.085154698677133, 19.085120147951645, 10.136129061218556, 10.136114665082935, 10.136114665082935, 10.13610314817444, 10.13610314817444, 10.136091631265943, 10.136091631265943, 10.136091631265943, 10.136076275387948, 10.136076275387948, 10.136076275387948, 10.136076275387948, 10.136030207753963, 10.135993737543727, 10.135993737543727, 10.135610800336227, 10.135683740756704, 10.135683740756704, 10.135340152986567, 96.10053188681466, 48.32092480997628, 299.97907289488734, 106.44591741695474, 143.63673294155558, 29.12831159657545, 270.206666673754, 38.27765466247775, 38.13076417254785, 68.5541828412758, 57.46977264881325, 55.2251962843569, 68.48191040149271, 412.35117681527527, 141.13908402980397, 228.9686559448122, 28.801753495135497, 181.4566020082183, 45.60179039196495, 62.096832679028815, 278.5320401992354, 67.04756390562129, 137.5423842182, 46.002905120039735, 47.80862968624878, 128.02087993218234, 105.52504844741642, 81.52164596256031, 48.267428770011485, 64.52105362117823, 46.86716464534978, 59.340011097448446, 57.74229725455858, 60.65524204771328, 20.970305257754717, 20.686468667071672, 19.98613772575611, 19.833258374727965, 19.83325551189919, 20.431545215639563, 17.707655243184792, 17.42420370297249, 17.21594292921953, 10.533643938438932, 10.533643938438932, 10.533621751515897, 10.533621751515897, 10.533621751515897, 10.533621751515897, 10.53361316302956, 10.533612447322366, 10.533612447322366, 10.533612447322366, 10.533601711714445, 10.533601711714445, 10.533601711714445, 10.533600996007252, 10.533587397570551, 10.533587397570551, 10.533587397570551, 10.533567357769101, 10.533567357769101, 10.533540160895702, 10.533540160895702, 40.138726042365995, 52.86945078988141, 48.73409461898453, 574.4430385436515, 41.052008502388496, 199.59946850390884, 30.194601531703753, 29.985219960483914, 171.73339170182885, 40.13878329894157, 50.78449839558203, 50.367590366190974, 323.25805215186784, 20.686475824143617, 20.146394586547075, 19.986116254540267, 19.985963093200603, 38.981656534860704, 38.01414637211122, 45.839499892110766, 27.860617387598914, 39.60567304942127, 132.165456461369, 76.04810924502893, 30.914894978093503, 30.139074104711217, 105.44496922339154, 77.29222019872317, 50.68546169681013, 80.60605902327144, 30.629293453468364, 61.638965241110995, 41.27632831417582, 37.59728128515186, 34.373235085248915, 40.85947467853157, 42.285773192876356, 37.44494157734851, 36.62191838306228, 32.99368370203225, 30.659849755656186, 30.170581736326326, 30.018196040211624, 26.850578417358484, 20.565868874201886, 20.359083450662627, 20.283901338187356, 20.283898569048777, 20.283869493093675, 20.076844539067157, 20.076793310003406, 19.71792264188549, 19.566075543224798, 19.566075543224798, 17.32283653123267, 10.472360130875654, 10.472360130875654, 10.472360130875654, 10.472360130875654, 10.472340054620942, 10.472340054620942, 10.472340054620942, 10.472340054620942, 10.472340054620942, 10.472328978066617, 10.472295056119, 10.472295056119, 10.47226874930248, 10.47226874930248, 10.472225827654475, 123.61807905649069, 111.1291975966685, 30.7341346672312, 57.33828190398566, 30.58310861815979, 27.05746629902524, 131.48683001871467, 20.28396225923614, 189.7119562446646, 20.566058560194687, 20.566125019520634, 27.35857412091193, 20.076942843486783, 19.566196000753074, 269.56144072172657, 139.37745717572886, 66.85073814514412, 164.98112295056885, 107.24621178934348, 40.8285253811955, 44.71854203137778, 40.34041763093109, 68.7349209567334, 51.09767920014789, 46.88701568625108, 30.170639888236526, 49.92283338920098, 27.416775875608256, 40.3941084588789, 27.417011252387642, 39.751781842759144, 30.30098047210756, 30.377685610802402, 30.734860181539435, 29.962666504246002, 29.45249979604502, 30.079692342653406, 20.17694600836166, 19.82472137623511, 19.696922395979932, 19.69687612405268, 19.547902293323183, 19.493784552522936, 19.34255292393131, 17.27190459345311, 10.274184023270992, 10.274184023270992, 10.274184023270992, 10.274184023270992, 10.274175857636772, 10.274175857636772, 10.274175857636772, 10.274175857636772, 10.274175857636772, 10.274152721673145, 10.274152721673145, 10.274152721673145, 10.274152721673145, 10.274152721673145, 10.274152721673145, 10.274152721673145, 10.274152721673145, 10.274152721673145, 10.274152721673145, 10.274152721673145, 10.274133668526629, 160.03008857733317, 26.97158249217874, 48.48087284728488, 20.176973227142398, 388.8373979967107, 150.9167726235724, 29.876444263134427, 209.35921839501677, 150.58647816308562, 19.97386260246614, 19.973790472697186, 159.34206312537674, 19.195816476978393, 19.195811033222245, 127.57759358017968, 64.87568081120943, 36.800719716784506, 79.53851420679244, 29.247660487451988, 81.2783822215477, 29.52460613769434, 70.25338242150772, 37.631219154630436, 29.876819882308595, 48.6467930909012, 56.11072714458864, 27.451512199766928, 50.23621746076717, 44.73825783341687, 29.876738225966385, 49.43975783011087, 26.54562762679193, 50.3328495761395, 29.19362848581106, 29.396008286224532, 24.733668059617404, 20.845213105611055, 17.113183331878357, 16.54265245314155, 10.47079784161477, 10.47079784161477, 10.47079784161477, 10.47079784161477, 10.47079784161477, 10.47079784161477, 10.470759672090402, 10.470759672090402, 10.470759672090402, 10.470742204680946, 10.470717620919487, 10.470677510571846, 10.470677510571846, 10.470677510571846, 10.4706089348162, 10.188633190895503, 10.188633190895503, 10.188633190895503, 10.188633190895503, 10.188633190895503, 10.188633190895503, 10.188627368425683, 10.188627368425683, 10.188627368425683, 10.188627368425683, 10.188621545955865, 30.16605827833868, 49.067008972127645, 39.692043295491814, 27.205552335375025, 40.388726393090295, 60.08274405597841, 29.807337206675534, 109.13251334191324, 97.39218870956289, 26.99829828746415, 20.35602730577367, 161.76080880727406, 46.52036418389475, 122.867176214293, 49.99228999811108, 59.44100437135588, 131.22743549181948, 17.602450646293207, 19.71494491329959, 17.319936647384804, 55.14215845463086, 30.73062824186307, 78.35480849074071, 97.71965476323793, 95.29936015784054, 20.563045867127425, 30.361056674221768, 112.94211652798487, 37.58086231890015, 29.958452294474306, 59.89595922418658, 64.03364435185188, 49.63307725121878, 49.78443041333903, 43.942014106674414, 46.8930643586521, 40.33233383207052, 44.99023464206164, 31.089310497060758, 31.235384619878502, 30.654791219412374, 30.4539272120361, 20.386159029230765, 20.178252317375364, 20.024647971252612, 19.970097814399104, 19.664785533596174, 10.525303903434354, 10.525303903434354, 10.525303903434354, 10.525303903434354, 10.525303903434354, 10.5252877160747, 10.525272773896559, 10.525272773896559, 10.525272773896559, 10.525250360629345, 10.525250360629345, 10.525250360629345, 10.525170669012585, 10.525104674392455, 10.525104674392455, 10.241645329122841, 10.241645329122841, 10.241645329122841, 10.241645329122841, 10.241645329122841, 10.241645329122841, 10.241639725806039, 10.241639725806039, 10.241639725806039, 50.89601232369098, 30.814703612922248, 27.83852306087441, 69.44887816118064, 30.453491398506944, 199.3978885121868, 50.8186168216392, 143.02081130591685, 20.3091744370779, 39.954721916315684, 20.386479040879316, 131.5275369150557, 19.817600434640404, 30.398718354162813, 47.27588117205361, 58.348443595136274, 120.8174020035439, 61.117418472519894, 172.23071751525214, 79.86816357514986, 26.985850155539193, 100.57424709022534, 20.025477262139518, 29.962244878807073, 126.43046110710713, 50.0448112229028, 83.21007136977504, 49.96631498039452, 40.46794339933704, 63.38203506888365, 30.45401437474193, 42.69187991570801, 43.256574712067035, 30.814962610676716, 31.17131363646968, 30.093098513526453, 29.708392654079674, 20.355003638688014, 20.14726011449561, 19.994298694858596, 19.939500416811523, 19.634640051529512, 17.175828899292092, 17.02339498430685, 10.509165392686821, 10.509165392686821, 10.509165392686821, 10.509165392686821, 10.509165392686821, 10.509165392686821, 10.509165392686821, 10.509165392686821, 10.509077060539944, 10.50905217824505, 10.50905217824505, 10.50905217824505, 10.50905217824505, 10.50905217824505, 10.50905217824505, 10.50905217824505, 10.50905217824505, 10.509017343032196, 10.508804599410846, 10.50875856716529, 10.50875856716529, 10.50875856716529, 47.76908945676903, 199.9961629010059, 98.27576880954864, 40.120941339804276, 39.532241171967485, 204.0456867247279, 31.334114714481405, 20.355022300409185, 20.35510814432657, 19.787167275120606, 138.7961282116946, 40.04570225650103, 30.276701781250082, 19.939481755090352, 20.277885942120196, 29.91639371002424, 26.944800759903906, 106.56163272706368, 226.29788323758018, 41.1082658247756, 24.596277891558714, 93.5408771023231, 97.30797692606983, 68.99302513308886, 68.77645461478248, 74.26139324286143, 39.53251487721133, 30.276639575512846, 59.32836358502077, 39.89330815318762, 30.351873682357116, 30.06911874785975, 30.276582346234587, 34.41041733797853, 30.199591549370737, 31.559237277543165, 30.465179898937112, 27.545308952859727, 20.324849699043703, 20.17108711847668, 19.96140907287756, 19.960995892228873, 19.807725664650405, 19.80737804859567, 17.821565049336975, 17.173450378631316, 10.60176144146049, 10.60176144146049, 10.601755256121436, 10.601755256121436, 10.601732988900848, 10.601732988900848, 10.601731751833038, 10.601715669951503, 10.601690928595293, 10.601690928595293, 10.601690928595293, 10.316069290112978, 10.316051352629726, 10.316051352629726, 10.316051352629726, 10.316051352629726, 10.316051352629726, 10.316042693155055, 10.316042693155055, 10.316042074621148, 40.6840577194547, 50.61665330727919, 30.333711754449922, 29.97038741265796, 99.95894863203573, 47.7729857383252, 20.32488928521364, 100.11688755353082, 124.2351079649459, 42.702967230914034, 41.25683496050428, 67.74170959316592, 20.820217421854714, 24.75645585858653, 20.171064851256094, 47.61941119206536, 19.80775906548129, 156.4898301584722, 40.32048101582941, 39.3258982893169, 118.15646353723807, 63.266418858032864, 56.21970948939722, 40.55259452323875, 40.398025374459316, 46.309356380804516, 67.97953340558827, 62.86150677058937, 52.7759007394266, 41.543176572452275, 39.881611416989216, 75.82230085851627, 65.83884693886877, 82.56436990815182, 55.486029312378726, 40.83808750666878, 48.87529232977121, 43.3714786756783, 42.10347922170133, 48.54597844556344, 38.162047590152135, 31.114901110150143, 21.157277656753976, 20.94400438732729, 20.866875858817075, 20.49773135871184, 20.44101913776631, 20.440963952342102, 17.60782935097695, 14.774666007203358, 10.773508908526289, 10.773508908526289, 10.773490513384886, 10.773490513384886, 10.77341808251561, 10.77341808251561, 10.773381292232804, 10.48317379297697, 10.48317379297697, 10.48317379297697, 10.48317379297697, 10.483172643280632, 10.483172643280632, 10.483172643280632, 10.483154248139229, 10.483154248139229, 10.483154248139229, 10.483146200264866, 10.483138152390502, 27.46528896004096, 30.88158403477218, 48.546916597774995, 31.541401661150015, 38.6664630619572, 38.1405528674227, 130.1640481605275, 20.94434699683592, 20.867183977435573, 20.866521752345065, 57.65758865130034, 20.65357499667828, 20.944303308375087, 20.65404867156941, 20.8670230199483, 31.038266951065136, 20.284761609118302, 20.44114330497078, 31.618732536215663, 41.84454105551923, 62.26704778285607, 101.50148382955847, 114.69456202194537, 41.71304798598504, 88.0558587408494, 67.48117360747068, 121.62600766130767, 68.02711841038575, 48.17860447781825, 74.99924490496085, 49.05035022890767, 51.95904517297843, 80.46893902787305, 35.54320029038352, 51.51296759274039, 59.7615697395543, 35.32987873371064, 20.55157781988678, 20.550903078942966, 20.47568654575679, 20.475671598963732, 19.90433684004445, 10.571484519917675, 10.571484519917675, 10.571484519917675, 10.571480249405372, 10.571439679538498, 10.57141939460506, 10.570048560155916, 10.56975282717896, 10.28659757658134, 10.28659757658134, 10.28659757658134, 10.28659757658134, 10.286593306069037, 10.286593306069037, 10.286593306069037, 10.286593306069037, 10.286593306069037, 10.286593306069037, 10.286593306069037, 10.286593306069037, 10.286593306069037, 10.286593306069037, 10.286593306069037, 10.286593306069037, 10.286593306069037, 30.53195724418016, 30.09351015183788, 47.76845593788192, 20.760514769548966, 20.26672183776464, 30.378645852515845, 20.057735777210972, 30.455715788041356, 30.950142890902626, 100.07324648718037, 109.7942563467737, 44.857132397348785, 17.771604561501704, 61.27073112866425, 40.930434769693804, 87.48146160136737, 17.486882032889017, 183.42108278726894, 31.520027810895165, 30.37907503900226, 30.462458926967205, 20.057767806053242, 71.49804865634475, 59.46359979012301, 20.26667486212931, 40.43670376033786, 48.35758592156625, 30.741163236117412, 50.70184521548273, 61.48067378397371, 30.247814437612558, 30.247227242170947, 31.025624195851563, 34.829736767859636, 30.092271703270118, 21.04555438370012, 20.760604450307323], \"Total\": [629.0, 362.0, 712.0, 1984.0, 630.0, 601.0, 728.0, 1771.0, 298.0, 144.0, 142.0, 391.0, 422.0, 373.0, 501.0, 597.0, 722.0, 920.0, 183.0, 200.0, 842.0, 943.0, 462.0, 178.0, 132.0, 267.0, 241.0, 117.0, 379.0, 306.0, 36.98559096984698, 30.82856877726114, 29.681002853172068, 29.68073314990226, 26.868374161880215, 20.785156362316794, 20.785033763957063, 20.511465877101838, 20.438010447109722, 19.964459712575668, 19.96442516240077, 11.015434064484754, 11.015419668349134, 11.015419668349134, 11.015408151440639, 11.015408151440639, 11.015396634532141, 11.015396634532141, 11.015396634532141, 11.015381288373792, 11.015381299918818, 11.015381299918818, 11.015381299918818, 11.015335221652498, 11.015298740809925, 11.015298740809925, 11.01491581478535, 11.015003271183504, 11.015003271183504, 11.014662058016604, 117.32676200649954, 59.084539230107666, 601.7478425630144, 177.78930750919864, 287.99506788252864, 40.177788378450494, 712.7844167752264, 59.476071031120746, 59.25323923458746, 126.74011889825557, 108.4932381539275, 104.18083000340847, 140.32401758438823, 1771.0701038143586, 422.334296269471, 943.0274465239856, 49.601175785974526, 728.1271622250731, 97.68554323829215, 166.26256302779854, 1984.9942216367187, 189.56012027114824, 722.3281172174744, 107.12029619797936, 117.73304415819594, 920.4249573724873, 842.6447931463352, 504.45673719160743, 136.7582345707474, 343.2964909940799, 138.75345826128932, 373.3505454425616, 437.52453767325284, 597.7865154267579, 21.845923540961945, 21.5620869450724, 20.861755993124504, 20.708876651824344, 20.70887381597467, 21.35134334872964, 18.583406321824015, 18.29982197932289, 18.091561196587925, 11.409262205807325, 11.409262205807325, 11.40924001888429, 11.40924001888429, 11.40924001888429, 11.40924001888429, 11.409231440062547, 11.409230724410405, 11.409230724410405, 11.409230724410405, 11.40921998874743, 11.409219989191293, 11.409219989191293, 11.409219274007981, 11.409205664938945, 11.40920567465859, 11.40920567465859, 11.409185632635483, 11.409185632635483, 11.409158437992076, 11.409158437992076, 50.71311094344764, 74.7577888370128, 79.25341849261092, 1984.9942216367187, 66.10767535315266, 722.3281172174744, 50.780443841502475, 50.74830745749111, 629.8091698261649, 77.9876109971863, 111.64963161564832, 111.13794602734657, 1771.0701038143586, 31.294647769597585, 31.00316431347308, 30.76366354761041, 30.989993842382884, 92.41723565659628, 89.79988679409664, 121.56414390825027, 58.650860225666484, 108.65675638634936, 920.4249573724873, 373.3505454425616, 70.60002009083689, 68.33686328065144, 943.0274465239856, 504.45673719160743, 223.09652026596677, 842.6447931463352, 71.67880130077057, 601.7478425630144, 227.91466873343654, 166.26256302779854, 121.42024821526013, 379.6294251136633, 597.7865154267579, 267.73984729631866, 728.1271622250731, 630.3028457876218, 31.536037047538095, 31.04676901647472, 30.894429377361668, 27.72676571469853, 21.442063662944847, 21.23527070899576, 21.16008862162492, 21.160085837490364, 21.160056762609734, 20.953031816792866, 20.952980578064523, 20.594109908559467, 20.442262811277576, 20.442262811277576, 18.199023798547806, 11.348547389208788, 11.348547389208788, 11.348547389208788, 11.348547389208788, 11.348527312954076, 11.348527312954076, 11.348527312954076, 11.348527320452062, 11.348527320452062, 11.348516247582676, 11.348482314452134, 11.348482314452134, 11.348456007635614, 11.3484560151336, 11.348413095707254, 144.54378475228918, 142.11696728690032, 38.784082850639074, 88.79138785807264, 41.46721907571549, 37.70182625433843, 379.6294251136633, 28.33366482212974, 920.4249573724873, 31.63074663438831, 31.87813619631145, 50.000783351478816, 30.932433476876213, 29.863635630899843, 1984.9942216367187, 712.7844167752264, 241.8615001438887, 1771.0701038143586, 842.6447931463352, 132.14430786568076, 166.26256302779854, 130.25909714636563, 943.0274465239856, 462.532138209102, 373.3505454425616, 82.12796976439137, 504.45673719160743, 62.522400339793606, 343.2964909940799, 75.34752937590355, 437.52453767325284, 135.7332016650509, 158.33073744061363, 180.3029595126941, 227.91466873343654, 298.51773731023343, 30.957718998826145, 21.054972672032388, 20.70274803240785, 20.5749490633356, 20.574902787723406, 20.425928966713556, 20.371811228523775, 20.22063101298377, 18.149931258607854, 11.15221068694172, 11.15221068694172, 11.15221068694172, 11.15221068694172, 11.152202513809511, 11.152202513809511, 11.1522025213075, 11.1522025213075, 11.1522025213075, 11.152179377845885, 11.152179377845885, 11.152179377845885, 11.152179377845885, 11.152179377845885, 11.152179377845885, 11.152179377845885, 11.152179385343873, 11.152179385343873, 11.152179385343873, 11.15217938795434, 11.152160324699368, 298.51773731023343, 38.037980791378324, 88.86885956184784, 28.275010158150117, 1771.0701038143586, 501.1192305957799, 50.904053496013226, 943.0274465239856, 629.8091698261649, 30.859857600204197, 31.040301935640663, 842.6447931463352, 29.642214413579843, 29.856991006756814, 630.3028457876218, 218.62713569029523, 87.42155324647793, 379.6294251136633, 70.09966263275498, 437.52453767325284, 77.98031007463045, 422.334296269471, 125.13135494186622, 81.21529379670844, 267.73984729631866, 391.03618033474453, 68.39265622176396, 504.45673719160743, 373.3505454425616, 98.91530845509759, 712.7844167752264, 84.94798258786027, 1984.9942216367187, 241.8615001438887, 287.99506788252864, 25.609881078175025, 21.72141535530253, 17.98938557190524, 17.41885469170515, 11.347000070458726, 11.347000070458726, 11.347000070458726, 11.347000070458726, 11.347000070458726, 11.347000070458726, 11.346961900934359, 11.346961900934359, 11.346961900934359, 11.34694444102289, 11.346919858745446, 11.346879739415803, 11.346879739415803, 11.346879739415803, 11.346811173379802, 11.06483541973946, 11.06483541973946, 11.06483541973946, 11.06483541973946, 11.06483541973946, 11.06483541973946, 11.06482959726964, 11.06482959726964, 11.06482959726964, 11.06482959726964, 11.064823774799821, 40.776134850469944, 77.76446497673442, 60.34092668827279, 37.78026811635515, 70.49896765065373, 122.11367133950019, 50.354061780574575, 343.2964909940799, 306.01853151297985, 48.043057018143244, 31.449783152328614, 842.6447931463352, 128.02043695954023, 629.8091698261649, 158.33073744061363, 223.09652026596677, 920.4249573724873, 28.047046239305082, 35.148143082532, 27.979265910979816, 230.94512261175078, 81.20510357408503, 462.532138209102, 712.7844167752264, 722.3281172174744, 41.95975689482143, 94.02778648096945, 1984.9942216367187, 168.10401450809925, 100.01774679875986, 601.7478425630144, 728.1271622250731, 422.334296269471, 504.45673719160743, 391.03618033474453, 597.7865154267579, 362.66198114429113, 1771.0701038143586, 146.32058167245606, 630.3028457876218, 267.73984729631866, 31.329624017327347, 21.261860396711516, 21.053949102218088, 20.90035850942389, 20.84579462444976, 20.54048232128098, 11.401000679936235, 11.401000679936235, 11.401000679936235, 11.401000679936235, 11.401000679936235, 11.400984492576582, 11.400969560506894, 11.400969561581364, 11.400969561581364, 11.40094714547207, 11.400947146850871, 11.400947146850871, 11.40086745669739, 11.400801458392325, 11.400801458392325, 11.117342105624722, 11.117342105624722, 11.117342105624722, 11.117342105624722, 11.117342105624722, 11.117342105624722, 11.117336509805908, 11.117336509805908, 11.117336509805908, 61.67329084166135, 41.57627620065955, 39.387721363990075, 132.14430786568076, 48.02575693056668, 630.3028457876218, 102.08518245574514, 597.7865154267579, 31.128539795318687, 89.363837779003, 31.635513630926983, 601.7478425630144, 30.845080572086083, 61.46932240507927, 135.7332016650509, 200.173187233907, 712.7844167752264, 230.94512261175078, 1771.0701038143586, 462.532138209102, 66.76645701276932, 842.6447931463352, 38.40639821469509, 84.69620416173491, 1984.9942216367187, 274.1542037830612, 943.0274465239856, 362.66198114429113, 223.09652026596677, 920.4249573724873, 111.13794602734657, 437.52453767325284, 504.45673719160743, 140.32401758438823, 391.03618033474453, 189.56012027114824, 30.584239396629457, 21.230850381237797, 21.023106867153846, 20.87017958090561, 20.815347169025898, 20.510486794079295, 18.051675653024798, 17.899241738039557, 11.385012135236604, 11.385012135236604, 11.385012135236604, 11.385012135236604, 11.385012135236604, 11.385012135236604, 11.385012135236604, 11.385012135236604, 11.384923803089727, 11.384898920794832, 11.384898920794832, 11.384898920794832, 11.384898920794832, 11.384898931977757, 11.384898931977757, 11.384898931977757, 11.384898931977757, 11.38486408558198, 11.384651341960629, 11.384612322943667, 11.384612322943667, 11.384612322943667, 58.73627185516895, 362.66198114429113, 178.76583772615047, 61.3289075850465, 67.74840382209945, 728.1271622250731, 52.13288130598387, 28.567868279672933, 31.244718535270465, 30.084270238181503, 630.3028457876218, 90.59334102130254, 58.539883293681996, 30.598518530239936, 31.589544425996895, 60.83427367430594, 51.93753929650533, 501.1192305957799, 1984.9942216367187, 119.1180425410363, 50.6173901772779, 597.7865154267579, 722.3281172174744, 391.03618033474453, 462.532138209102, 943.0274465239856, 200.173187233907, 107.12029619797936, 1771.0701038143586, 437.52453767325284, 135.75163583459116, 132.57037210676526, 137.2662023853287, 343.2964909940799, 274.1542037830612, 842.6447931463352, 31.340179159508182, 28.420304025547402, 21.199836607242148, 21.046074026675125, 20.83639601297301, 20.83601424687703, 20.68271259358964, 20.68238354961582, 18.6965832402113, 18.048437307181743, 11.476748383207706, 11.476748383207706, 11.476742172660721, 11.476742172660721, 11.476719906818936, 11.476719906818936, 11.476718660031478, 11.476702588782281, 11.476677836793733, 11.476677846521715, 11.476677846521715, 11.191056198311419, 11.191038260828167, 11.191038260828167, 11.191038260828167, 11.191038260828167, 11.191038260828167, 11.191029620809458, 11.191029620809458, 11.191028999501277, 51.50233624380322, 71.36399751727878, 41.15229497693379, 40.74713527057876, 183.64483851108798, 77.67966268315735, 28.536839799443833, 267.73984729631866, 373.3505454425616, 94.02778648096945, 89.39010578405481, 190.20738613626304, 31.847053532069598, 42.64776482478897, 30.989749701551144, 125.13135494186622, 31.356244468085368, 920.4249573724873, 100.01774679875986, 96.10435342893899, 597.7865154267579, 218.62713569029523, 180.3029595126941, 102.47508561289305, 102.08518245574514, 137.2662023853287, 306.01853151297985, 274.1542037830612, 230.94512261175078, 135.04736916629784, 128.02043695954023, 943.0274465239856, 842.6447931463352, 1984.9942216367187, 728.1271622250731, 189.56012027114824, 501.1192305957799, 343.2964909940799, 629.8091698261649, 49.41937956196094, 39.035450645393986, 31.98830470717279, 22.030671340334848, 21.817410006290807, 21.74026942459184, 21.371124927328687, 21.314412704928213, 21.314357530516816, 18.481222927803444, 15.648059564637279, 11.646902476068664, 11.646902476068664, 11.6468840804834, 11.6468840804834, 11.64681164744752, 11.64681164744752, 11.646774860299061, 11.356567360138872, 11.356567360138872, 11.356567360138872, 11.356567360138872, 11.356566210442534, 11.356566210442534, 11.356566210442534, 11.35654780557315, 11.35654780557315, 11.356547815292798, 11.356539766039631, 11.356531719552404, 35.558143254012656, 41.656802506063194, 86.80664285973641, 51.681953846499646, 69.03089459181328, 69.02230570985854, 391.03618033474453, 31.585789620104165, 31.509203870215558, 31.64183011119143, 146.32058167245606, 31.25949461937113, 32.00610906859427, 31.353467319723162, 32.11395109858929, 59.67180300301316, 30.892168638756303, 31.40581481996832, 62.443825968005825, 102.15876311945355, 200.173187233907, 504.45673719160743, 728.1271622250731, 135.04736916629784, 722.3281172174744, 437.52453767325284, 1771.0701038143586, 630.3028457876218, 274.1542037830612, 943.0274465239856, 298.51773731023343, 362.66198114429113, 1984.9942216367187, 132.57037210676526, 501.1192305957799, 920.4249573724873, 241.8615001438887, 21.426846850997087, 21.426195546689524, 21.350955598500992, 21.350940641256962, 20.779605890927805, 11.446753562210906, 11.446753562210906, 11.446753562210906, 11.446749280515679, 11.446708710648805, 11.446688425715367, 11.4453656242898, 11.445070498783583, 11.161866607691646, 11.161866607691646, 11.161866617356239, 11.161866617356239, 11.16186234467733, 11.16186234467733, 11.16186234467733, 11.16186234467733, 11.16186234467733, 11.16186234467733, 11.16186234467733, 11.16186234467733, 11.161862346898989, 11.161862346898989, 11.161862346898989, 11.161862346898989, 11.161862346898989, 51.63627804000811, 50.89643896216697, 99.09344479548855, 31.490134326991942, 31.07785572926348, 58.439270754655396, 31.150585648117726, 60.090043265502516, 62.61290968587946, 422.334296269471, 629.8091698261649, 135.75163583459116, 28.37938261605467, 241.8615001438887, 121.94665960270954, 462.532138209102, 27.930205658778377, 1984.9942216367187, 82.12796976439137, 88.71493608250177, 89.39010578405481, 41.164489296535535, 728.1271622250731, 501.1192305957799, 48.043057018143244, 227.91466873343654, 437.52453767325284, 136.7582345707474, 597.7865154267579, 1771.0701038143586, 141.3711671817979, 189.56012027114824, 287.99506788252864, 712.7844167752264, 842.6447931463352, 62.185990663805754, 100.24985872541278], \"Category\": [\"Default\", \"Default\", \"Default\", \"Default\", \"Default\", \"Default\", \"Default\", \"Default\", \"Default\", \"Default\", \"Default\", \"Default\", \"Default\", \"Default\", \"Default\", \"Default\", \"Default\", \"Default\", \"Default\", \"Default\", \"Default\", \"Default\", \"Default\", \"Default\", \"Default\", \"Default\", \"Default\", \"Default\", \"Default\", \"Default\", \"Topic1\", \"Topic1\", \"Topic1\", \"Topic1\", \"Topic1\", \"Topic1\", \"Topic1\", \"Topic1\", \"Topic1\", \"Topic1\", \"Topic1\", \"Topic1\", \"Topic1\", \"Topic1\", \"Topic1\", \"Topic1\", \"Topic1\", \"Topic1\", \"Topic1\", \"Topic1\", \"Topic1\", \"Topic1\", \"Topic1\", \"Topic1\", \"Topic1\", \"Topic1\", \"Topic1\", \"Topic1\", \"Topic1\", \"Topic1\", \"Topic1\", \"Topic1\", \"Topic1\", \"Topic1\", \"Topic1\", \"Topic1\", \"Topic1\", \"Topic1\", \"Topic1\", \"Topic1\", \"Topic1\", \"Topic1\", \"Topic1\", \"Topic1\", \"Topic1\", \"Topic1\", \"Topic1\", \"Topic1\", \"Topic1\", \"Topic1\", \"Topic1\", \"Topic1\", \"Topic1\", \"Topic1\", \"Topic1\", \"Topic1\", \"Topic1\", \"Topic1\", \"Topic1\", \"Topic1\", \"Topic1\", \"Topic1\", \"Topic1\", \"Topic1\", \"Topic2\", \"Topic2\", \"Topic2\", \"Topic2\", \"Topic2\", \"Topic2\", \"Topic2\", \"Topic2\", \"Topic2\", \"Topic2\", \"Topic2\", \"Topic2\", \"Topic2\", \"Topic2\", \"Topic2\", \"Topic2\", \"Topic2\", \"Topic2\", \"Topic2\", \"Topic2\", \"Topic2\", \"Topic2\", \"Topic2\", \"Topic2\", \"Topic2\", \"Topic2\", \"Topic2\", \"Topic2\", \"Topic2\", \"Topic2\", \"Topic2\", \"Topic2\", \"Topic2\", \"Topic2\", \"Topic2\", \"Topic2\", \"Topic2\", \"Topic2\", \"Topic2\", \"Topic2\", \"Topic2\", \"Topic2\", \"Topic2\", \"Topic2\", \"Topic2\", \"Topic2\", \"Topic2\", \"Topic2\", \"Topic2\", \"Topic2\", \"Topic2\", \"Topic2\", \"Topic2\", \"Topic2\", \"Topic2\", \"Topic2\", \"Topic2\", \"Topic2\", \"Topic2\", \"Topic2\", \"Topic2\", \"Topic2\", \"Topic2\", \"Topic2\", \"Topic2\", \"Topic2\", \"Topic2\", \"Topic2\", \"Topic2\", \"Topic2\", \"Topic3\", \"Topic3\", \"Topic3\", \"Topic3\", \"Topic3\", \"Topic3\", \"Topic3\", \"Topic3\", \"Topic3\", \"Topic3\", \"Topic3\", \"Topic3\", \"Topic3\", \"Topic3\", \"Topic3\", \"Topic3\", \"Topic3\", \"Topic3\", \"Topic3\", \"Topic3\", \"Topic3\", \"Topic3\", \"Topic3\", \"Topic3\", \"Topic3\", \"Topic3\", \"Topic3\", \"Topic3\", \"Topic3\", \"Topic3\", \"Topic3\", \"Topic3\", \"Topic3\", \"Topic3\", \"Topic3\", \"Topic3\", \"Topic3\", \"Topic3\", \"Topic3\", \"Topic3\", \"Topic3\", \"Topic3\", \"Topic3\", \"Topic3\", \"Topic3\", \"Topic3\", \"Topic3\", \"Topic3\", \"Topic3\", \"Topic3\", \"Topic3\", \"Topic3\", \"Topic3\", \"Topic3\", \"Topic3\", \"Topic3\", \"Topic3\", \"Topic3\", \"Topic3\", \"Topic3\", \"Topic3\", \"Topic3\", \"Topic3\", \"Topic3\", \"Topic3\", \"Topic3\", \"Topic4\", \"Topic4\", \"Topic4\", \"Topic4\", \"Topic4\", \"Topic4\", \"Topic4\", \"Topic4\", \"Topic4\", \"Topic4\", \"Topic4\", \"Topic4\", \"Topic4\", \"Topic4\", \"Topic4\", \"Topic4\", \"Topic4\", \"Topic4\", \"Topic4\", \"Topic4\", \"Topic4\", \"Topic4\", \"Topic4\", \"Topic4\", \"Topic4\", \"Topic4\", \"Topic4\", \"Topic4\", \"Topic4\", \"Topic4\", \"Topic4\", \"Topic4\", \"Topic4\", \"Topic4\", \"Topic4\", \"Topic4\", \"Topic4\", \"Topic4\", \"Topic4\", \"Topic4\", \"Topic4\", \"Topic4\", \"Topic4\", \"Topic4\", \"Topic4\", \"Topic4\", \"Topic4\", \"Topic4\", \"Topic4\", \"Topic4\", \"Topic4\", \"Topic4\", \"Topic4\", \"Topic4\", \"Topic4\", \"Topic4\", \"Topic4\", \"Topic4\", \"Topic4\", \"Topic4\", \"Topic4\", \"Topic4\", \"Topic4\", \"Topic4\", \"Topic4\", \"Topic5\", \"Topic5\", \"Topic5\", \"Topic5\", \"Topic5\", \"Topic5\", \"Topic5\", \"Topic5\", \"Topic5\", \"Topic5\", \"Topic5\", \"Topic5\", \"Topic5\", \"Topic5\", \"Topic5\", \"Topic5\", \"Topic5\", \"Topic5\", \"Topic5\", \"Topic5\", \"Topic5\", \"Topic5\", \"Topic5\", \"Topic5\", \"Topic5\", \"Topic5\", \"Topic5\", \"Topic5\", \"Topic5\", \"Topic5\", \"Topic5\", \"Topic5\", \"Topic5\", \"Topic5\", \"Topic5\", \"Topic5\", \"Topic5\", \"Topic5\", \"Topic5\", \"Topic5\", \"Topic5\", \"Topic5\", \"Topic5\", \"Topic5\", \"Topic5\", \"Topic5\", \"Topic5\", \"Topic5\", \"Topic5\", \"Topic5\", \"Topic5\", \"Topic5\", \"Topic5\", \"Topic5\", \"Topic5\", \"Topic5\", \"Topic5\", \"Topic5\", \"Topic5\", \"Topic5\", \"Topic5\", \"Topic5\", \"Topic5\", \"Topic5\", \"Topic5\", \"Topic5\", \"Topic5\", \"Topic5\", \"Topic5\", \"Topic5\", \"Topic5\", \"Topic6\", \"Topic6\", \"Topic6\", \"Topic6\", \"Topic6\", \"Topic6\", \"Topic6\", \"Topic6\", \"Topic6\", \"Topic6\", \"Topic6\", \"Topic6\", \"Topic6\", \"Topic6\", \"Topic6\", \"Topic6\", \"Topic6\", \"Topic6\", \"Topic6\", \"Topic6\", \"Topic6\", \"Topic6\", \"Topic6\", \"Topic6\", \"Topic6\", \"Topic6\", \"Topic6\", \"Topic6\", \"Topic6\", \"Topic6\", \"Topic6\", \"Topic6\", \"Topic6\", \"Topic6\", \"Topic6\", \"Topic6\", \"Topic6\", \"Topic6\", \"Topic6\", \"Topic6\", \"Topic6\", \"Topic6\", \"Topic6\", \"Topic6\", \"Topic6\", \"Topic6\", \"Topic6\", \"Topic6\", \"Topic6\", \"Topic6\", \"Topic6\", \"Topic6\", \"Topic6\", \"Topic6\", \"Topic6\", \"Topic6\", \"Topic6\", \"Topic6\", \"Topic6\", \"Topic6\", \"Topic6\", \"Topic6\", \"Topic6\", \"Topic6\", \"Topic6\", \"Topic6\", \"Topic7\", \"Topic7\", \"Topic7\", \"Topic7\", \"Topic7\", \"Topic7\", \"Topic7\", \"Topic7\", \"Topic7\", \"Topic7\", \"Topic7\", \"Topic7\", \"Topic7\", \"Topic7\", \"Topic7\", \"Topic7\", \"Topic7\", \"Topic7\", \"Topic7\", \"Topic7\", \"Topic7\", \"Topic7\", \"Topic7\", \"Topic7\", \"Topic7\", \"Topic7\", \"Topic7\", \"Topic7\", \"Topic7\", \"Topic7\", \"Topic7\", \"Topic7\", \"Topic7\", \"Topic7\", \"Topic7\", \"Topic7\", \"Topic7\", \"Topic7\", \"Topic7\", \"Topic7\", \"Topic7\", \"Topic7\", \"Topic7\", \"Topic7\", \"Topic7\", \"Topic7\", \"Topic7\", \"Topic7\", \"Topic7\", \"Topic7\", \"Topic7\", \"Topic7\", \"Topic7\", \"Topic7\", \"Topic7\", \"Topic7\", \"Topic7\", \"Topic7\", \"Topic7\", \"Topic7\", \"Topic7\", \"Topic7\", \"Topic7\", \"Topic7\", \"Topic7\", \"Topic7\", \"Topic8\", \"Topic8\", \"Topic8\", \"Topic8\", \"Topic8\", \"Topic8\", \"Topic8\", \"Topic8\", \"Topic8\", \"Topic8\", \"Topic8\", \"Topic8\", \"Topic8\", \"Topic8\", \"Topic8\", \"Topic8\", \"Topic8\", \"Topic8\", \"Topic8\", \"Topic8\", \"Topic8\", \"Topic8\", \"Topic8\", \"Topic8\", \"Topic8\", \"Topic8\", \"Topic8\", \"Topic8\", \"Topic8\", \"Topic8\", \"Topic8\", \"Topic8\", \"Topic8\", \"Topic8\", \"Topic8\", \"Topic8\", \"Topic8\", \"Topic8\", \"Topic8\", \"Topic8\", \"Topic8\", \"Topic8\", \"Topic8\", \"Topic8\", \"Topic8\", \"Topic8\", \"Topic8\", \"Topic8\", \"Topic8\", \"Topic8\", \"Topic8\", \"Topic8\", \"Topic8\", \"Topic8\", \"Topic8\", \"Topic8\", \"Topic8\", \"Topic8\", \"Topic8\", \"Topic8\", \"Topic8\", \"Topic8\", \"Topic8\", \"Topic8\", \"Topic8\", \"Topic8\", \"Topic8\", \"Topic8\", \"Topic8\", \"Topic9\", \"Topic9\", \"Topic9\", \"Topic9\", \"Topic9\", \"Topic9\", \"Topic9\", \"Topic9\", \"Topic9\", \"Topic9\", \"Topic9\", \"Topic9\", \"Topic9\", \"Topic9\", \"Topic9\", \"Topic9\", \"Topic9\", \"Topic9\", \"Topic9\", \"Topic9\", \"Topic9\", \"Topic9\", \"Topic9\", \"Topic9\", \"Topic9\", \"Topic9\", \"Topic9\", \"Topic9\", \"Topic9\", \"Topic9\", \"Topic9\", \"Topic9\", \"Topic9\", \"Topic9\", \"Topic9\", \"Topic9\", \"Topic9\", \"Topic9\", \"Topic9\", \"Topic9\", \"Topic9\", \"Topic9\", \"Topic9\", \"Topic9\", \"Topic9\", \"Topic9\", \"Topic9\", \"Topic9\", \"Topic9\", \"Topic9\", \"Topic9\", \"Topic9\", \"Topic9\", \"Topic9\", \"Topic9\", \"Topic9\", \"Topic9\", \"Topic9\", \"Topic9\", \"Topic9\", \"Topic9\", \"Topic9\", \"Topic9\", \"Topic9\", \"Topic9\", \"Topic9\", \"Topic9\", \"Topic10\", \"Topic10\", \"Topic10\", \"Topic10\", \"Topic10\", \"Topic10\", \"Topic10\", \"Topic10\", \"Topic10\", \"Topic10\", \"Topic10\", \"Topic10\", \"Topic10\", \"Topic10\", \"Topic10\", \"Topic10\", \"Topic10\", \"Topic10\", \"Topic10\", \"Topic10\", \"Topic10\", \"Topic10\", \"Topic10\", \"Topic10\", \"Topic10\", \"Topic10\", \"Topic10\", \"Topic10\", \"Topic10\", \"Topic10\", \"Topic10\", \"Topic10\", \"Topic10\", \"Topic10\", \"Topic10\", \"Topic10\", \"Topic10\", \"Topic10\", \"Topic10\", \"Topic10\", \"Topic10\", \"Topic10\", \"Topic10\", \"Topic10\", \"Topic10\", \"Topic10\", \"Topic10\", \"Topic10\", \"Topic10\", \"Topic10\", \"Topic10\", \"Topic10\", \"Topic10\", \"Topic10\", \"Topic10\", \"Topic10\", \"Topic10\", \"Topic10\", \"Topic10\", \"Topic10\", \"Topic10\", \"Topic10\", \"Topic10\", \"Topic10\", \"Topic10\", \"Topic10\", \"Topic10\"], \"logprob\": [30.0, 29.0, 28.0, 27.0, 26.0, 25.0, 24.0, 23.0, 22.0, 21.0, 20.0, 19.0, 18.0, 17.0, 16.0, 15.0, 14.0, 13.0, 12.0, 11.0, 10.0, 9.0, 8.0, 7.0, 6.0, 5.0, 4.0, 3.0, 2.0, 1.0, -5.4308, -5.6178, -5.6568, -5.6568, -5.7596, -6.0262, -6.0262, -6.0401, -6.0438, -6.0683, -6.0683, -6.7011, -6.7012, -6.7012, -6.7012, -6.7012, -6.7012, -6.7012, -6.7012, -6.7012, -6.7012, -6.7012, -6.7012, -6.7012, -6.7012, -6.7012, -6.7012, -6.7012, -6.7012, -6.7012, -4.4519, -5.1394, -3.3135, -4.3496, -4.05, -5.6455, -3.4181, -5.3724, -5.3762, -4.7896, -4.966, -5.0058, -4.7907, -2.9954, -4.0675, -3.5837, -5.6568, -3.8162, -5.1973, -4.8886, -3.3877, -4.8119, -4.0933, -5.1886, -5.15, -4.1651, -4.3583, -4.6164, -5.1405, -4.8503, -5.1699, -4.934, -4.9613, -4.912, -5.6808, -5.6944, -5.7288, -5.7365, -5.7365, -5.7068, -5.8499, -5.866, -5.878, -6.3693, -6.3693, -6.3693, -6.3693, -6.3693, -6.3693, -6.3693, -6.3693, -6.3693, -6.3693, -6.3693, -6.3693, -6.3693, -6.3693, -6.3693, -6.3693, -6.3693, -6.3693, -6.3693, -6.3693, -6.3693, -5.0315, -4.756, -4.8375, -2.3705, -5.009, -3.4275, -5.3162, -5.3232, -3.5779, -5.0315, -4.7963, -4.8045, -2.9454, -5.6944, -5.7208, -5.7288, -5.7288, -5.0608, -5.0859, -4.8987, -5.3966, -5.0449, -3.8398, -4.3925, -5.2926, -5.318, -4.0657, -4.3763, -4.7982, -4.3343, -5.3019, -4.6026, -5.0036, -5.0969, -5.1866, -5.0137, -4.9794, -5.101, -5.1232, -5.2275, -5.2676, -5.2837, -5.2888, -5.4003, -5.667, -5.6771, -5.6808, -5.6808, -5.6808, -5.691, -5.691, -5.7091, -5.7168, -5.7168, -5.8386, -6.3418, -6.3418, -6.3418, -6.3418, -6.3419, -6.3419, -6.3419, -6.3419, -6.3419, -6.3419, -6.3419, -6.3419, -6.3419, -6.3419, -6.3419, -3.8734, -3.9799, -5.2652, -4.6416, -5.2701, -5.3926, -3.8117, -5.6808, -3.4451, -5.6669, -5.6669, -5.3816, -5.691, -5.7168, -3.0938, -3.7534, -4.4881, -3.5848, -4.0155, -4.9812, -4.8902, -4.9932, -4.4603, -4.7568, -4.8428, -5.2837, -4.7801, -5.3794, -4.9919, -5.3794, -5.0079, -5.2794, -5.2769, -5.2652, -5.2906, -5.3078, -5.2695, -5.6688, -5.6864, -5.6929, -5.6929, -5.7005, -5.7033, -5.7111, -5.8243, -6.3437, -6.3437, -6.3437, -6.3437, -6.3437, -6.3437, -6.3437, -6.3437, -6.3437, -6.3437, -6.3437, -6.3437, -6.3437, -6.3437, -6.3437, -6.3437, -6.3437, -6.3437, -6.3437, -6.3437, -6.3437, -3.598, -5.3786, -4.7922, -5.6688, -2.7102, -3.6566, -5.2763, -3.3293, -3.6588, -5.6789, -5.679, -3.6023, -5.7187, -5.7187, -3.8246, -4.5009, -5.0679, -4.2971, -5.2976, -4.2755, -5.2882, -4.4213, -5.0455, -5.2763, -4.7888, -4.646, -5.361, -4.7566, -4.8725, -5.2763, -4.7726, -5.3945, -4.7547, -5.2994, -5.2925, -5.4147, -5.5857, -5.783, -5.8169, -6.2743, -6.2743, -6.2743, -6.2743, -6.2743, -6.2743, -6.2743, -6.2743, -6.2743, -6.2743, -6.2743, -6.2743, -6.2743, -6.2743, -6.2743, -6.3016, -6.3016, -6.3016, -6.3016, -6.3016, -6.3016, -6.3016, -6.3016, -6.3016, -6.3016, -6.3016, -5.2161, -4.7297, -4.9417, -5.3194, -4.9243, -4.5271, -5.2281, -3.9303, -4.0441, -5.3271, -5.6095, -3.5367, -4.783, -3.8117, -4.711, -4.5379, -3.7459, -5.7548, -5.6415, -5.771, -4.6129, -5.1976, -4.2616, -4.0407, -4.0658, -5.5994, -5.2097, -3.896, -4.9964, -5.223, -4.5302, -4.4634, -4.7182, -4.7151, -4.84, -4.775, -4.9257, -4.8164, -5.186, -5.1813, -5.2001, -5.1683, -5.5696, -5.5799, -5.5875, -5.5902, -5.6057, -6.2307, -6.2307, -6.2307, -6.2307, -6.2307, -6.2307, -6.2307, -6.2307, -6.2307, -6.2307, -6.2307, -6.2307, -6.2307, -6.2307, -6.2307, -6.258, -6.258, -6.258, -6.258, -6.258, -6.258, -6.258, -6.258, -6.258, -4.6547, -5.1565, -5.2581, -4.3439, -5.1683, -3.2892, -4.6562, -3.6215, -5.5734, -4.8967, -5.5696, -3.7053, -5.5979, -5.1701, -4.7285, -4.518, -3.7902, -4.4717, -3.4356, -4.2041, -5.2892, -3.9736, -5.5875, -5.1845, -3.7448, -4.6716, -4.1631, -4.6731, -4.884, -4.4353, -5.1683, -4.8305, -4.8173, -5.1565, -5.145, -5.1802, -5.1922, -5.5703, -5.5806, -5.5882, -5.5909, -5.6063, -5.7401, -5.749, -6.2314, -6.2314, -6.2314, -6.2314, -6.2314, -6.2314, -6.2314, -6.2314, -6.2314, -6.2314, -6.2314, -6.2314, -6.2314, -6.2314, -6.2314, -6.2314, -6.2314, -6.2314, -6.2314, -6.2314, -6.2314, -6.2314, -4.7172, -3.2853, -3.9958, -4.8917, -4.9065, -3.2653, -5.1389, -5.5703, -5.5703, -5.5986, -3.6506, -4.8936, -5.1732, -5.5909, -5.5741, -5.1852, -5.2898, -3.9149, -3.1618, -4.8674, -5.381, -4.0452, -4.0057, -4.3496, -4.3528, -4.276, -4.9065, -5.1732, -4.5005, -4.8974, -5.1708, -5.1801, -5.1732, -5.0453, -5.1758, -5.1318, -5.1614, -5.2621, -5.5661, -5.5737, -5.5841, -5.5842, -5.5919, -5.5919, -5.6975, -5.7346, -6.2169, -6.2169, -6.2169, -6.2169, -6.2169, -6.2169, -6.2169, -6.2169, -6.2169, -6.2169, -6.2169, -6.2442, -6.2442, -6.2442, -6.2442, -6.2442, -6.2442, -6.2442, -6.2442, -6.2442, -4.8721, -4.6537, -5.1657, -5.1777, -3.9732, -4.7115, -5.5661, -3.9716, -3.7558, -4.8237, -4.8581, -4.3622, -5.542, -5.3689, -5.5737, -4.7147, -5.5919, -3.525, -4.8811, -4.9061, -3.8059, -4.4306, -4.5487, -4.8753, -4.8792, -4.7426, -4.3587, -4.437, -4.6119, -4.8512, -4.892, -4.2496, -4.3907, -4.1644, -4.5618, -4.8683, -4.6887, -4.8081, -4.8378, -4.6222, -4.8629, -5.067, -5.4527, -5.4628, -5.4665, -5.4844, -5.4872, -5.4872, -5.6364, -5.8118, -6.1276, -6.1276, -6.1276, -6.1276, -6.1276, -6.1276, -6.1276, -6.1549, -6.1549, -6.1549, -6.1549, -6.1549, -6.1549, -6.1549, -6.1549, -6.1549, -6.1549, -6.1549, -6.1549, -5.1918, -5.0745, -4.6222, -5.0534, -4.8497, -4.8634, -3.6359, -5.4628, -5.4665, -5.4666, -4.4502, -5.4768, -5.4628, -5.4768, -5.4665, -5.0695, -5.4948, -5.4871, -5.0509, -4.7707, -4.3733, -3.8846, -3.7624, -4.7739, -4.0267, -4.2928, -3.7037, -4.2848, -4.6298, -4.1872, -4.6118, -4.5542, -4.1168, -4.9339, -4.5629, -4.4143, -4.94, -5.4077, -5.4077, -5.4114, -5.4114, -5.4397, -6.0725, -6.0725, -6.0725, -6.0725, -6.0725, -6.0725, -6.0726, -6.0726, -6.0998, -6.0998, -6.0998, -6.0998, -6.0998, -6.0998, -6.0998, -6.0998, -6.0998, -6.0998, -6.0998, -6.0998, -6.0998, -6.0998, -6.0998, -6.0998, -6.0998, -5.0119, -5.0263, -4.5643, -5.3976, -5.4217, -5.0169, -5.432, -5.0144, -4.9983, -3.8247, -3.732, -4.6272, -5.553, -4.3153, -4.7188, -3.9592, -5.5692, -3.2189, -4.98, -5.0169, -5.0141, -5.432, -4.161, -4.3453, -5.4217, -4.7309, -4.552, -5.005, -4.5047, -4.3119, -5.0212, -5.0212, -4.9958, -4.8802, -5.0264, -5.3839, -5.3976], \"loglift\": [30.0, 29.0, 28.0, 27.0, 26.0, 25.0, 24.0, 23.0, 22.0, 21.0, 20.0, 19.0, 18.0, 17.0, 16.0, 15.0, 14.0, 13.0, 12.0, 11.0, 10.0, 9.0, 8.0, 7.0, 6.0, 5.0, 4.0, 3.0, 2.0, 1.0, 1.9142, 1.9093, 1.9082, 1.9082, 1.905, 1.895, 1.895, 1.8944, 1.8943, 1.8932, 1.8932, 1.8551, 1.8551, 1.8551, 1.8551, 1.8551, 1.8551, 1.8551, 1.8551, 1.8551, 1.8551, 1.8551, 1.8551, 1.8551, 1.8551, 1.8551, 1.8551, 1.8551, 1.8551, 1.8551, 1.7387, 1.7372, 1.2421, 1.4253, 1.2426, 1.6167, 0.9683, 1.4976, 1.4975, 1.3237, 1.3028, 1.3035, 1.2209, 0.4808, 0.8422, 0.5227, 1.3947, 0.5488, 1.1765, 0.9534, -0.0256, 0.899, 0.2797, 1.093, 1.037, -0.0344, -0.1393, 0.1156, 0.8968, 0.2667, 0.8529, 0.099, -0.0869, -0.3498, 2.1907, 2.1902, 2.1888, 2.1885, 2.1885, 2.1876, 2.1834, 2.1826, 2.182, 2.1518, 2.1518, 2.1518, 2.1518, 2.1518, 2.1518, 2.1518, 2.1518, 2.1518, 2.1518, 2.1518, 2.1518, 2.1518, 2.1518, 2.1518, 2.1518, 2.1518, 2.1518, 2.1518, 2.1518, 2.1518, 1.9978, 1.8852, 1.7454, 0.9917, 1.7552, 0.9455, 1.7118, 1.7055, 0.9322, 1.5674, 1.4439, 1.4402, 0.5308, 1.8177, 1.8006, 1.8004, 1.793, 1.3684, 1.372, 1.2564, 1.4873, 1.2224, 0.2909, 0.6405, 1.4059, 1.413, 0.0407, 0.3558, 0.7497, -0.1153, 1.3814, -0.0469, 0.523, 0.745, 0.9697, 0.0026, -0.4171, 0.2645, -0.7582, -0.7182, 2.2367, 2.2363, 2.2362, 2.2328, 2.2232, 2.2228, 2.2226, 2.2226, 2.2226, 2.2222, 2.2222, 2.2214, 2.2211, 2.2211, 2.2156, 2.1846, 2.1846, 2.1846, 2.1846, 2.1846, 2.1846, 2.1846, 2.1846, 2.1846, 2.1846, 2.1846, 2.1846, 2.1846, 2.1846, 2.1846, 2.1085, 2.019, 2.0323, 1.8276, 1.9605, 1.9332, 1.2046, 1.9307, 0.6856, 1.8344, 1.8267, 1.6619, 1.8327, 1.8421, 0.2684, 0.6329, 0.979, -0.1086, 0.2035, 1.0904, 0.9517, 1.0928, -0.3539, 0.0619, 0.1901, 1.2635, -0.0481, 1.4406, 0.125, 1.254, -0.1336, 0.7654, 0.6139, 0.4957, 0.2359, -0.0511, 2.2534, 2.2395, 2.2388, 2.2385, 2.2385, 2.2382, 2.2381, 2.2377, 2.2326, 2.2001, 2.2001, 2.2001, 2.2001, 2.2001, 2.2001, 2.2001, 2.2001, 2.2001, 2.2001, 2.2001, 2.2001, 2.2001, 2.2001, 2.2001, 2.2001, 2.2001, 2.2001, 2.2001, 2.2001, 2.2001, 1.6587, 1.9383, 1.6761, 1.9447, 0.766, 1.082, 1.7493, 0.7771, 0.8513, 1.8471, 1.8413, 0.6166, 1.8476, 1.8404, 0.6847, 1.0672, 1.4169, 0.7192, 1.408, 0.5989, 1.3109, 0.4885, 1.0806, 1.2821, 0.5767, 0.3407, 1.3693, -0.0246, 0.1605, 1.085, -0.3863, 1.119, -1.3926, 0.1677, 0.0001, 2.2979, 2.2915, 2.2827, 2.2811, 2.2523, 2.2523, 2.2523, 2.2523, 2.2523, 2.2523, 2.2523, 2.2523, 2.2523, 2.2523, 2.2523, 2.2523, 2.2523, 2.2523, 2.2523, 2.2502, 2.2502, 2.2502, 2.2502, 2.2502, 2.2502, 2.2502, 2.2502, 2.2502, 2.2502, 2.2502, 2.0313, 1.8722, 1.9138, 2.0043, 1.7756, 1.6234, 1.8083, 1.1866, 1.1878, 1.7563, 1.8977, 0.6822, 1.3204, 0.6984, 1.1799, 1.01, 0.3848, 1.8668, 1.7545, 1.8531, 0.9004, 1.361, 0.5572, 0.3456, 0.3072, 1.6195, 1.2022, -0.5338, 0.8346, 1.1271, 0.0254, -0.0984, 0.1915, 0.0169, 0.1467, -0.2127, 0.1364, -1.3402, 0.7837, -0.672, 0.1654, 2.3427, 2.329, 2.3286, 2.3282, 2.3281, 2.3275, 2.2911, 2.2911, 2.2911, 2.2911, 2.2911, 2.2911, 2.2911, 2.2911, 2.2911, 2.2911, 2.2911, 2.2911, 2.2911, 2.2911, 2.2911, 2.289, 2.289, 2.289, 2.289, 2.289, 2.289, 2.289, 2.289, 2.289, 2.179, 2.0715, 2.024, 1.7277, 1.9155, 1.2201, 1.6735, 0.9408, 1.944, 1.5661, 1.9316, 0.8504, 1.9286, 1.6669, 1.3163, 1.1383, 0.5961, 1.0417, 0.0405, 0.6147, 1.4651, 0.2454, 1.7198, 1.3319, -0.3826, 0.6703, -0.0567, 0.3889, 0.6639, -0.3046, 1.0765, 0.0439, -0.0853, 0.8551, -0.1583, 0.5306, 2.3428, 2.3298, 2.3293, 2.329, 2.3289, 2.3283, 2.3222, 2.3217, 2.2918, 2.2918, 2.2918, 2.2918, 2.2918, 2.2918, 2.2918, 2.2918, 2.2918, 2.2918, 2.2918, 2.2918, 2.2918, 2.2918, 2.2918, 2.2918, 2.2918, 2.2918, 2.2918, 2.2918, 2.2918, 2.2918, 2.1652, 1.7767, 1.7736, 1.9475, 1.8332, 1.0998, 1.8628, 2.0329, 1.9434, 1.9529, 0.8587, 1.5555, 1.7126, 1.9436, 1.9286, 1.6621, 1.7156, 0.8238, 0.2004, 1.308, 1.6502, 0.5171, 0.3673, 0.6371, 0.466, -0.1696, 0.7498, 1.1083, -1.0244, -0.023, 0.8739, 0.8883, 0.8603, 0.0717, 0.166, -0.9128, 2.3493, 2.3463, 2.3354, 2.3351, 2.3347, 2.3347, 2.3343, 2.3343, 2.3296, 2.3279, 2.2983, 2.2983, 2.2983, 2.2983, 2.2983, 2.2983, 2.2983, 2.2983, 2.2983, 2.2983, 2.2983, 2.2962, 2.2962, 2.2962, 2.2962, 2.2962, 2.2962, 2.2962, 2.2962, 2.2962, 2.1418, 2.0341, 2.0726, 2.0704, 1.7693, 1.8914, 2.0382, 1.3939, 1.2772, 1.5882, 1.6044, 1.3452, 1.9526, 1.8337, 1.9482, 1.4114, 1.9182, 0.6057, 1.4691, 1.484, 0.7563, 1.1376, 1.2122, 1.4506, 1.4505, 1.291, 0.8731, 0.9048, 0.9014, 1.1987, 1.2113, -0.1431, -0.1718, -0.8022, -0.1968, 0.8425, 0.05, 0.3088, -0.3277, 2.433, 2.4282, 2.4231, 2.4104, 2.41, 2.4098, 2.4091, 2.409, 2.409, 2.4024, 2.3934, 2.3729, 2.3729, 2.3729, 2.3729, 2.3729, 2.3729, 2.3729, 2.3708, 2.3708, 2.3708, 2.3708, 2.3708, 2.3708, 2.3708, 2.3708, 2.3708, 2.3708, 2.3708, 2.3708, 2.1926, 2.1515, 1.8697, 1.957, 1.8712, 1.8577, 1.3508, 2.04, 2.0387, 2.0345, 1.5195, 2.0364, 2.0268, 2.0334, 2.0197, 1.7972, 2.0302, 2.0214, 1.7703, 1.5583, 1.2831, 0.8474, 0.6026, 1.276, 0.3463, 0.5815, -0.2276, 0.2245, 0.712, -0.0808, 0.6448, 0.5078, -0.7547, 1.1345, 0.1758, -0.2837, 0.5272, 2.4832, 2.4832, 2.483, 2.483, 2.4818, 2.4453, 2.4453, 2.4453, 2.4453, 2.4453, 2.4453, 2.4453, 2.4453, 2.4432, 2.4432, 2.4432, 2.4432, 2.4432, 2.4432, 2.4432, 2.4432, 2.4432, 2.4432, 2.4432, 2.4432, 2.4432, 2.4432, 2.4432, 2.4432, 2.4432, 1.9994, 1.9994, 1.7952, 2.1083, 2.0974, 1.8706, 2.0847, 1.8453, 1.8203, 1.085, 0.7781, 1.4175, 2.0568, 1.1518, 1.4332, 0.8596, 2.0566, 0.1433, 1.5672, 1.4532, 1.4484, 1.8059, 0.2041, 0.3934, 1.6618, 0.7956, 0.3224, 1.0323, 0.0576, -0.8357, 0.9829, 0.6896, 0.2967, -0.4938, -0.8074, 1.4414, 0.9503]}, \"token.table\": {\"Topic\": [3, 5, 1, 8, 1, 1, 2, 4, 3, 7, 4, 5, 7, 2, 6, 10, 2, 1, 1, 2, 5, 7, 10, 2, 5, 6, 10, 7, 5, 1, 2, 5, 6, 8, 10, 3, 9, 5, 7, 8, 9, 1, 4, 5, 7, 4, 9, 10, 3, 8, 1, 6, 9, 2, 3, 4, 5, 6, 7, 8, 9, 10, 4, 10, 9, 1, 3, 3, 5, 7, 8, 9, 10, 1, 2, 3, 6, 8, 5, 6, 2, 4, 7, 10, 10, 1, 3, 9, 1, 3, 2, 4, 5, 7, 9, 4, 5, 8, 9, 9, 4, 6, 7, 8, 1, 2, 3, 4, 5, 6, 7, 9, 10, 3, 10, 2, 6, 7, 5, 1, 9, 7, 1, 3, 4, 6, 7, 9, 10, 10, 4, 6, 1, 3, 8, 10, 1, 2, 3, 4, 5, 6, 7, 9, 10, 7, 1, 3, 7, 1, 3, 4, 5, 7, 9, 5, 5, 8, 4, 10, 1, 4, 8, 9, 10, 4, 1, 2, 3, 4, 6, 3, 9, 9, 8, 10, 4, 8, 2, 4, 9, 3, 5, 6, 7, 9, 1, 7, 1, 2, 3, 4, 10, 3, 6, 8, 9, 8, 6, 8, 1, 4, 5, 6, 9, 10, 10, 2, 1, 2, 5, 7, 8, 1, 6, 9, 1, 2, 4, 1, 10, 10, 1, 7, 10, 7, 2, 3, 7, 5, 9, 3, 5, 8, 9, 3, 4, 8, 5, 6, 1, 3, 5, 10, 9, 10, 2, 3, 1, 2, 3, 5, 6, 8, 9, 2, 2, 3, 4, 6, 9, 1, 2, 3, 4, 5, 6, 7, 8, 9, 10, 4, 8, 9, 10, 3, 5, 6, 8, 9, 7, 9, 9, 10, 1, 4, 7, 5, 9, 1, 2, 1, 4, 6, 1, 10, 4, 1, 3, 6, 10, 6, 5, 8, 1, 2, 3, 8, 9, 8, 9, 2, 2, 5, 6, 9, 10, 1, 2, 3, 6, 8, 9, 5, 10, 5, 3, 6, 2, 2, 5, 10, 2, 3, 4, 5, 8, 9, 10, 3, 5, 8, 6, 8, 1, 6, 1, 6, 9, 4, 7, 8, 1, 2, 4, 5, 6, 8, 9, 10, 9, 1, 7, 3, 10, 1, 2, 3, 5, 7, 8, 9, 10, 6, 1, 4, 5, 7, 8, 9, 8, 6, 1, 8, 10, 1, 5, 2, 1, 5, 2, 5, 5, 8, 3, 5, 8, 10, 1, 2, 3, 5, 8, 2, 3, 4, 5, 6, 7, 8, 9, 8, 2, 4, 5, 6, 7, 8, 9, 10, 2, 3, 6, 7, 5, 10, 1, 5, 5, 8, 9, 8, 9, 6, 9, 9, 1, 2, 3, 4, 6, 7, 8, 10, 2, 3, 4, 8, 10, 1, 3, 5, 7, 9, 1, 4, 5, 6, 7, 8, 9, 10, 2, 7, 3, 10, 6, 3, 2, 4, 10, 8, 1, 3, 7, 8, 10, 4, 7, 9, 3, 2, 7, 10, 1, 1, 2, 3, 5, 7, 8, 9, 7, 10, 5, 2, 3, 9, 9, 1, 3, 4, 5, 6, 7, 9, 10, 4, 5, 4, 8, 8, 1, 2, 4, 5, 6, 7, 8, 9, 7, 8, 1, 2, 5, 7, 8, 9, 10, 1, 2, 3, 4, 5, 6, 7, 8, 9, 10, 2, 3, 7, 9, 1, 3, 8, 10, 1, 2, 7, 9, 10, 6, 4, 7, 8, 10, 3, 5, 8, 7, 1, 4, 5, 6, 2, 6, 4, 6, 10, 6, 8, 1, 2, 3, 4, 5, 6, 7, 8, 9, 10, 4, 6, 7, 10, 2, 3, 5, 6, 7, 9, 10, 2, 4, 9, 10, 9, 3, 4, 5, 6, 7, 8, 9, 10, 9, 1, 2, 3, 5, 6, 8, 9, 10, 1, 1, 2, 3, 4, 7, 9, 2, 3, 5, 6, 7, 8, 9, 3, 5, 6, 9, 10, 2, 3, 4, 8, 4, 3, 5, 8, 9, 10, 1, 2, 3, 6, 7, 7, 2, 4, 1, 2, 3, 9, 7, 4, 5, 1, 2, 7, 6, 10, 8, 5, 6, 9, 1, 2, 3, 4, 8, 9, 10, 7, 5, 8, 1, 2, 4, 6, 7, 9, 10, 7, 1, 2, 3, 4, 5, 6, 7, 8, 9, 10, 9, 9, 3, 4, 6, 7, 9, 4, 4, 4, 1, 4, 6, 7, 9, 1, 4, 8, 9, 10, 2, 6, 4, 9, 10, 2, 2, 3, 8, 9, 2, 4, 5, 6, 8, 4, 2, 10, 3, 7, 8, 1, 2, 7, 4, 6, 4, 8, 6, 9, 2, 1, 1, 2, 3, 4, 5, 9, 1, 9, 10, 1, 3, 5, 9, 10, 5, 8, 1, 2, 3, 4, 5, 6, 7, 8, 10, 3, 1, 2, 4, 6, 8, 6, 6, 9, 10, 3, 10, 1, 2, 9, 10, 2, 5, 6, 10, 6, 4, 5, 8, 9, 5, 6, 5, 7, 5, 6, 8, 1, 2, 3, 4, 5, 6, 7, 10, 3, 10, 10, 5, 1, 5, 9, 1, 3, 6, 9, 1, 2, 3, 4, 5, 6, 7, 8, 9, 10, 5, 2, 4, 5, 5, 2, 6, 10, 6, 8, 5, 10, 5, 1, 9, 1, 2, 6, 9, 3, 3, 5, 8, 2, 7, 4, 10, 4, 1, 3, 4, 5, 6, 10, 2, 1, 2, 5, 6, 6, 1, 2, 3, 5, 6, 7, 8, 3, 9, 2, 8, 1, 7, 8, 10, 5, 9, 3, 8, 1, 1, 4, 3, 5, 6, 7, 9, 4, 2, 3, 2, 5, 9, 7, 1, 5, 8, 6, 1, 2, 3, 4, 5, 6, 7, 8, 10, 9, 1, 6, 5, 3, 5, 9, 7, 4, 2, 6, 3, 1, 2, 3, 4, 5, 6, 10, 1, 1, 7, 8, 9, 9, 1, 9, 2, 8, 7, 1, 5, 4, 9, 10, 2, 3, 4, 5, 8, 2, 3, 2, 5, 10, 3, 4, 5, 7, 10, 7, 4, 4, 8, 4, 8, 6, 3, 2, 3, 7, 3, 8, 10, 10, 1, 2, 3, 4, 5, 6, 8, 9, 10, 8, 1, 6, 7, 10, 2, 2, 4, 10, 1, 5, 4, 8, 6, 1, 2, 3, 4, 5, 6, 7, 8, 9, 10, 6, 9, 2, 7, 3, 2, 8, 2, 8, 1, 4, 9, 3, 2, 2, 3, 4, 6, 3, 5, 7, 8, 10, 3, 1, 2, 3, 6, 10, 8, 5, 7, 9, 7, 7, 8, 9, 10, 2, 9, 2, 3, 8, 7, 1, 5, 6, 9, 8, 3, 5, 2, 3, 4, 6, 7, 8, 9, 10, 4, 10, 6, 1, 4, 5, 6, 7, 10, 1, 2, 4, 7, 10, 1, 2, 5, 6, 10, 2, 1, 10, 4, 5, 1, 2, 3, 4, 5, 6, 7, 8, 9, 10, 7, 9, 6, 4, 8, 5, 6, 7, 9, 1, 2, 4, 8, 2, 4, 5, 6, 7, 8, 10, 6, 1, 6, 3, 7, 2, 1, 2, 3, 4, 5, 6, 7, 8, 9, 2, 2, 9, 2, 3, 6, 7, 8, 4, 1, 4, 5, 7, 10, 3, 5, 10, 3, 2, 3, 7, 3, 7, 3, 7, 8, 10, 7, 5, 7], \"Freq\": [0.9710488461710488, 0.8812964332600507, 0.9078215022909555, 0.8935721393253439, 0.9078526582158294, 0.9078252998005285, 0.6501176288398692, 0.3250588144199346, 0.9451770486429139, 0.9661825450282138, 0.8966857198461083, 0.9759539476550885, 0.9420253847992105, 0.965769430001318, 0.9648302226947559, 0.8959078412912179, 0.9396646212713917, 0.9078202385060764, 0.973352028614319, 0.11978246664623832, 0.17111780949462616, 0.17111780949462616, 0.5133534284838784, 0.6710412641359483, 0.3195434591123564, 0.8994960250757567, 0.9609711557270028, 0.9661825450282138, 0.9450017029236172, 0.35344987070150985, 0.058029083249501616, 0.05275371204500147, 0.15826113613500442, 0.21629021938450602, 0.15826113613500442, 0.9662841239318893, 0.9444571226214111, 0.8812995492728165, 0.9661825450282138, 0.6378314858578219, 0.3508073172218021, 0.19859371114045396, 0.19859371114045396, 0.5957811334213619, 0.9808973704052996, 0.8966838596137319, 0.6697823811910517, 0.31894399104335797, 0.7475784653751854, 0.24115434366941463, 0.9622308160346424, 0.9648275891569829, 0.8805505278326411, 0.039910661533028836, 0.04589726076298316, 0.3013254945743677, 0.049888326916286044, 0.029932996149771626, 0.21352203920170426, 0.09778112075592064, 0.10376771998587497, 0.11773645152243506, 0.8966832030629712, 0.8959078414695395, 0.958585308168061, 0.33485541156459264, 0.6697108231291853, 0.10890586504990421, 0.16335879757485633, 0.054452932524952105, 0.544529325249521, 0.059898225777447314, 0.06534351902994252, 0.24957992992251363, 0.1552941786184529, 0.17193284061328715, 0.11092441329889494, 0.3105883572369058, 0.8813048747528742, 0.9648321194996838, 0.14265403889871744, 0.4136967128062806, 0.2853080777974349, 0.14265403889871744, 0.8959074985227305, 0.4399931066149853, 0.5399915399365729, 0.9691041861636643, 0.9078183402066139, 0.9451756255671185, 0.456786101861639, 0.1433054437212985, 0.21495816558194775, 0.08956590232581156, 0.08956590232581156, 0.3178415681864411, 0.11771909932831151, 0.35315729798493456, 0.2001224688581296, 0.8805477643798977, 0.39477922764766143, 0.2924290575167862, 0.1462145287583931, 0.1462145287583931, 0.17846093734159216, 0.05948697911386405, 0.05948697911386405, 0.1189739582277281, 0.2260505206326834, 0.05948697911386405, 0.1189739582277281, 0.05948697911386405, 0.1189739582277281, 0.6639109801211339, 0.3161480857719685, 0.9641354215970486, 0.3268132079700914, 0.6536264159401828, 0.8812902033934445, 0.3173675869815491, 0.6664719326612532, 0.9417408293147248, 0.0785573561261155, 0.27701804528682833, 0.11990333303459735, 0.08269195381696369, 0.041345976908481845, 0.14471091917968645, 0.25221045914173923, 0.8959078414695395, 0.16214474472707774, 0.8269381981080964, 0.11186920422890669, 0.07830844296023468, 0.4586637373385174, 0.33560761268672007, 0.13256399357266427, 0.06856758288241256, 0.09142344384321674, 0.1851324737825139, 0.06856758288241256, 0.098280202131458, 0.09142344384321674, 0.15313426843738806, 0.10970813261186009, 0.9662164760614159, 0.9516911688840669, 0.8811700437986356, 0.9608295186044665, 0.40770202064514016, 0.18686342612902257, 0.08493792096773754, 0.059456544677416276, 0.16987584193547509, 0.08493792096773754, 0.9037640073850702, 0.8812931679251127, 0.9419098014228326, 0.7098168577370914, 0.262895132495219, 0.3121606766979859, 0.08324284711946292, 0.4058088797073817, 0.07283749122953005, 0.11445891478926151, 0.9498943699208062, 0.200717377694247, 0.08264833199174876, 0.23613809140499645, 0.11806904570249822, 0.3542071371074947, 0.8811750966263691, 0.8805492805738524, 0.9444644880481713, 0.8935728292064596, 0.9609766240590714, 0.8966872524108528, 0.9584596292182145, 0.9686060611428986, 0.24005683101924322, 0.744176176159654, 0.05514777131282109, 0.11029554262564217, 0.1378694282820527, 0.5514777131282108, 0.14338420541333483, 0.9078183402066139, 0.9661921520535718, 0.5279282186386937, 0.163177813033778, 0.09598694884339884, 0.09598694884339884, 0.10558564372773872, 0.16758333914420256, 0.1173083374009418, 0.16758333914420256, 0.519508351347028, 0.9584655199966091, 0.8994960250757567, 0.9584601478809561, 0.5962113328694735, 0.056246352157497494, 0.056246352157497494, 0.11249270431499499, 0.056246352157497494, 0.11249270431499499, 0.8959074985227305, 0.9641377196910866, 0.5444211398869826, 0.15780322895274856, 0.1341327446098363, 0.07890161447637428, 0.07890161447637428, 0.3253655517495566, 0.488048327624335, 0.1626827758747783, 0.9078202385060764, 0.9641308256985631, 0.9660553260220442, 0.9078215032424272, 0.8959078412912179, 0.9624821618359868, 0.31619215043747245, 0.16641692128288024, 0.4992507638486407, 0.9662131645136192, 0.9367092118440388, 0.8811700437986356, 0.9661900413435123, 0.8812902033934445, 0.9444644880481713, 0.2452414883527086, 0.7357244650581258, 0.8935721393253439, 0.880549279820223, 0.9793833434181618, 0.8966832030629712, 0.8935707070713189, 0.31610044700598655, 0.6322008940119731, 0.12176119814830429, 0.3652835944449128, 0.12176119814830429, 0.3896358340745737, 0.656124740279851, 0.31244035251421476, 0.2470559330726859, 0.7058740944933882, 0.08660065981831813, 0.08660065981831813, 0.043300329909159066, 0.23815181450037487, 0.2641320124458703, 0.22949174851854307, 0.047630362900074975, 0.9641337279450144, 0.5129019787699761, 0.12822549469249403, 0.12822549469249403, 0.08975784628474581, 0.12822549469249403, 0.1390661986886994, 0.14341201739772128, 0.2064263886785382, 0.020642638867853818, 0.14232556272046581, 0.06844664466709424, 0.022815548222364746, 0.1694869296518524, 0.06518728063532785, 0.022815548222364746, 0.15971147244503817, 0.17568261968954196, 0.15971147244503817, 0.4951055645796183, 0.22102182540445087, 0.18418485450370906, 0.346267526466973, 0.16208267196326398, 0.07367394180148362, 0.31659806895044534, 0.6648559447959352, 0.8805492805738524, 0.8959078414695395, 0.31609689760698856, 0.19756056100436784, 0.49390140251091963, 0.31139114490459824, 0.6539214042996564, 0.962225140449736, 0.9641316111230144, 0.9785688314308664, 0.6363668728607041, 0.33492993308458113, 0.9078283063673611, 0.8959078414695395, 0.8966857204489804, 0.2845740338800093, 0.14977580730526804, 0.4043946797242237, 0.14977580730526804, 0.9648321194996838, 0.9037649585323753, 0.9584621115012877, 0.1036673286301516, 0.19992984807243522, 0.07404809187867971, 0.3110019858904548, 0.3110019858904548, 0.7008484520556404, 0.24529695821947411, 0.9641325182984486, 0.19162500420662648, 0.11272059070978029, 0.22544118141956057, 0.11272059070978029, 0.33816177212934084, 0.19577370936464975, 0.09788685468232487, 0.09788685468232487, 0.09788685468232487, 0.09788685468232487, 0.4111247896657645, 0.561995877776961, 0.4162932427977489, 0.9037644829584726, 0.2405217810209122, 0.7456175211648278, 0.9739317002800206, 0.9289707855742221, 0.8812931679251127, 0.8959078414695395, 0.12631786046914334, 0.18947679070371498, 0.12631786046914334, 0.3157946511728583, 0.06315893023457167, 0.04421125116420017, 0.12631786046914334, 0.16413521385606725, 0.23447887693723893, 0.5861971923430973, 0.9648289590396627, 0.8935721393253439, 0.9078202385060764, 0.9499405504828996, 0.6389124120205683, 0.1681348452685706, 0.1681348452685706, 0.8966838596137319, 0.9661825450282138, 0.9434034974197741, 0.5000085628505856, 0.07291791541571041, 0.10069616890740961, 0.034722816864624, 0.069445633729248, 0.07291791541571041, 0.041667380237548804, 0.10764073228033441, 0.9625340493644702, 0.33239962016125235, 0.6647992403225047, 0.8811804712839263, 0.9609749210938482, 0.1893407060811493, 0.05825867879419979, 0.11651735758839958, 0.31750979942838886, 0.09903975395013964, 0.12525615940752954, 0.06117161273390978, 0.029129339397099895, 0.9648444488876449, 0.21875174323750796, 0.07543163559914066, 0.07543163559914066, 0.226294906797422, 0.12823378051853915, 0.2715538881569064, 0.9584620073775878, 0.9648275891569829, 0.24459426500727605, 0.6179223537025921, 0.12873382368804004, 0.35654378413602844, 0.6417788114448513, 0.9641308256985631, 0.9078192893553527, 0.8812995492728165, 0.9641377196910866, 0.9037644829584726, 0.8812902033934445, 0.9627427519102454, 0.8811716026435639, 0.8812902033934445, 0.3210212518301161, 0.6420425036602322, 0.269121736446446, 0.439093359465254, 0.14164301918234, 0.14164301918234, 0.8935728292064596, 0.02557308122087207, 0.05114616244174414, 0.1432092548368836, 0.11252155737183711, 0.07927655178470341, 0.1764542604240173, 0.07671924366261622, 0.3324500558713369, 0.8935721393253439, 0.05235578455744309, 0.20307698252583986, 0.049182706705476836, 0.31572124627064163, 0.22052891071165423, 0.034903856371628725, 0.10788464696685242, 0.015865389259831237, 0.08324232937207592, 0.31026686402319203, 0.5221564296975671, 0.07567484488370538, 0.9037640073850702, 0.9367268794403135, 0.8123952666036985, 0.16924901387577052, 0.5690201030830457, 0.199157036079066, 0.199157036079066, 0.19686067267334229, 0.7593197374543202, 0.9736869703044406, 0.8805477643798977, 0.9444571226214111, 0.19305470878428335, 0.17989188773080947, 0.13162821053473864, 0.09213974737431704, 0.08775214035649243, 0.04826367719607084, 0.09213974737431704, 0.17550428071298485, 0.20182969762809724, 0.10091484881404862, 0.10091484881404862, 0.11100633369545349, 0.48439127430743334, 0.10934893654138542, 0.13668617067673178, 0.21186356454893426, 0.13668617067673178, 0.39638989496252214, 0.33385874944438504, 0.16574547844756704, 0.11838962746254789, 0.023677925492509577, 0.047355850985019154, 0.04972364353427011, 0.023677925492509577, 0.23677925492509577, 0.6453696022568218, 0.3226848011284109, 0.9451757499284344, 0.8959078414695395, 0.9594261269629061, 0.9711514646082111, 0.5911527202188811, 0.19705090673962705, 0.19705090673962705, 0.9584596292182145, 0.2239197459456691, 0.4318452243237904, 0.15994267567547793, 0.17593694324302572, 0.960971515181509, 0.9720558694184009, 0.7000872380187612, 0.24503053330656638, 0.8811724618299841, 0.19181751995073767, 0.5946343118472868, 0.19181751995073767, 0.9750643917813394, 0.14195032353085077, 0.12617806536075624, 0.11040580719066172, 0.1577225817009453, 0.052574193900315105, 0.3575045185221427, 0.052574193900315105, 0.9661825450282138, 0.9611124720611476, 0.9761857122134483, 0.18048641312359037, 0.7992969724044716, 0.9739615213948053, 0.9659493905004474, 0.13439798495521177, 0.07073578155537462, 0.07073578155537462, 0.21220734466612384, 0.07073578155537462, 0.14147156311074924, 0.07073578155537462, 0.21220734466612384, 0.9396343757917349, 0.9037640073850702, 0.9720580556975249, 0.9572376675740353, 0.9584655199966091, 0.03734968889009857, 0.1381938488933647, 0.18301347556148298, 0.11578403555930555, 0.03734968889009857, 0.03734968889009857, 0.3734968889009857, 0.078434346669207, 0.9661921520535718, 0.9598764793990129, 0.2485829528002839, 0.05081529974370444, 0.08789673469181308, 0.2801708418301542, 0.07553625637577688, 0.15793944514935165, 0.09751044004873015, 0.14055456532762686, 0.2891696075199205, 0.1360205470912518, 0.025188990202083664, 0.056927117856709085, 0.06347625530925084, 0.11385423571341817, 0.041813723735458885, 0.04030238432333386, 0.09219170413962621, 0.4390017123963319, 0.2487676370245881, 0.14633390413211064, 0.14633390413211064, 0.9078598663983408, 0.9783652712343768, 0.3175597759018908, 0.6668755293939707, 0.10820492442727864, 0.4219992052663867, 0.10820492442727864, 0.24887132618274085, 0.10820492442727864, 0.9569213844337684, 0.42323658898717487, 0.11438826729383104, 0.2287765345876621, 0.2287765345876621, 0.8811716026435639, 0.9037644829584726, 0.9584655208090337, 0.9513341736966419, 0.32632353045801826, 0.5401217055856854, 0.12377789086338623, 0.8994960250757567, 0.6450954424451629, 0.32254772122258146, 0.8966857198461083, 0.9648302226038267, 0.9610876892089295, 0.28025335877740826, 0.714646064882391, 0.1625511048905944, 0.15263945215336305, 0.09911652737231366, 0.09911652737231366, 0.09911652737231366, 0.08524021354018975, 0.021805636021909006, 0.039646610948925465, 0.20219771583951987, 0.039646610948925465, 0.8966857204489804, 0.163055244154361, 0.652220976617444, 0.163055244154361, 0.36813173271777544, 0.09203293317944386, 0.09203293317944386, 0.09203293317944386, 0.09203293317944386, 0.07362634654355509, 0.18406586635888772, 0.43248491098395, 0.2790225232154516, 0.1395112616077258, 0.1395112616077258, 0.9532165259781329, 0.04573997627707975, 0.2973098458010184, 0.13721992883123926, 0.04573997627707975, 0.04573997627707975, 0.28816185054560245, 0.08233195729874355, 0.0548879715324957, 0.8805477643798977, 0.12744326236447484, 0.09803327874190372, 0.07515884703545951, 0.31697426793215533, 0.06535551916126914, 0.22220876514831508, 0.05881996724514223, 0.03267775958063457, 0.9078526582158294, 0.28825505230355136, 0.28001919366630706, 0.17295303138213083, 0.08235858637244325, 0.08235858637244325, 0.09059444500968758, 0.2286006072134152, 0.08964729694643735, 0.2644595259919902, 0.1792945938928747, 0.04930601332054054, 0.10309439148840295, 0.08516493209911548, 0.954518137669531, 0.14488070048015925, 0.14488070048015925, 0.5505466618246051, 0.14488070048015925, 0.6182698605558377, 0.12617752256241585, 0.12617752256241585, 0.12617752256241585, 0.9791476330203802, 0.07811252826109642, 0.3671288828271532, 0.3124501130443857, 0.1640363093483025, 0.07811252826109642, 0.13271835298156492, 0.13271835298156492, 0.3583395530502253, 0.13271835298156492, 0.22562120006866038, 0.9661825450282138, 0.9641316111230144, 0.8966838602166015, 0.818227643533552, 0.08523204620141167, 0.09375525082155284, 0.9383322110196215, 0.9661921530026232, 0.8966857204489804, 0.9037640073850702, 0.5846635596932802, 0.20160812403216558, 0.20160812403216558, 0.32177252147366836, 0.6435450429473367, 0.9584601478809561, 0.6075927815292946, 0.3574075185466439, 0.9444674712049467, 0.15802842856453492, 0.20356204357465515, 0.1258870532632736, 0.12053015737973004, 0.3321275447797005, 0.029462927359489563, 0.029462927359489563, 0.9661921530026232, 0.6359344324610758, 0.3179672162305379, 0.33873029608741995, 0.086484330915937, 0.12251946879757743, 0.1441405515265617, 0.07207027576328084, 0.15134757910288976, 0.07927730333960893, 0.9583051225059056, 0.10577988445855736, 0.051066151117924244, 0.03647582222708874, 0.03647582222708874, 0.03647582222708874, 0.18237911113544372, 0.10942746668126624, 0.2297976800306591, 0.17508394669002597, 0.03647582222708874, 0.9358421734002716, 0.8805478535232639, 0.09991348130271582, 0.09991348130271582, 0.2897490957778759, 0.19982696260543165, 0.30973179203841905, 0.8966857204489804, 0.8966857204489804, 0.8966838596137319, 0.484592738795453, 0.07126363805815486, 0.22091727798028005, 0.14252727611630972, 0.07126363805815486, 0.28927721563610204, 0.11970091681493879, 0.27930213923485714, 0.09975076401244899, 0.20947660442614288, 0.32420080656393924, 0.6484016131278785, 0.3160373456547663, 0.6636784258750092, 0.936726223223665, 0.9612777395574142, 0.11519855705234636, 0.1958375469889888, 0.11519855705234636, 0.5644729295564972, 0.11120624473403355, 0.30328975836554606, 0.24263180669243684, 0.10109658612184867, 0.24263180669243684, 0.8966838602166015, 0.964133728766372, 0.8959078412912179, 0.7810467822319725, 0.14072914995170677, 0.07036457497585338, 0.1925389638294408, 0.26955454936121714, 0.5198552023394902, 0.3539767217948856, 0.6246648031674452, 0.896685719636215, 0.9598588924662278, 0.8994955723221459, 0.9383346399892661, 0.9641315506471746, 0.9078215022909555, 0.06699769394009267, 0.06699769394009267, 0.09714665621313437, 0.5359815515207413, 0.06699769394009267, 0.16414435015322704, 0.9516928158684438, 0.9734740952576613, 0.9609711557270028, 0.23780889197358257, 0.16400613239557418, 0.16400613239557418, 0.0902033728175658, 0.3362125714109271, 0.9037640073850702, 0.9502960017460138, 0.08431846520115503, 0.04324023856469489, 0.11026260833997197, 0.02378213121058219, 0.16863693040231006, 0.17296095425877955, 0.14917882304819738, 0.056212310134103355, 0.18809503775642278, 0.8811750966263691, 0.148069977061537, 0.3784010524905945, 0.15629608689828905, 0.1645221967350411, 0.13984386722478495, 0.9648321196163682, 0.32161584605325977, 0.32161584605325977, 0.33769663835592273, 0.6465705329957683, 0.32328526649788414, 0.14486267430157207, 0.14486267430157207, 0.564964429776131, 0.14486267430157207, 0.42316311697731546, 0.11135871499403038, 0.22271742998806077, 0.2338533014874638, 0.9648275891569829, 0.9366426659019723, 0.6301078521489195, 0.23146819058531737, 0.1285934392140652, 0.4686719098046748, 0.5207465664496387, 0.8812931679251127, 0.9661921520535718, 0.09795740928743593, 0.4995827873659232, 0.3918296371497437, 0.09509646930439877, 0.061533009549905086, 0.055939099590822806, 0.055939099590822806, 0.055939099590822806, 0.12306601909981017, 0.5482031759900635, 0.9800788770291124, 0.8811771386931067, 0.9609711557270028, 0.8959078412912179, 0.9667878292688501, 0.9078807817550679, 0.31841237227323393, 0.6368247445464679, 0.9731233459701741, 0.8811716020613727, 0.9648444488876449, 0.8805478535232639, 0.1020431181129141, 0.07025919607774413, 0.03345676003702101, 0.01840121802036156, 0.07862338608699938, 0.23921583426470025, 0.15724677217399877, 0.197394884218424, 0.01840121802036156, 0.08531473809440358, 0.9037644829584726, 0.7089562281670849, 0.14714185867618745, 0.1337653260692613, 0.8812945239994965, 0.9641308256985631, 0.3929548001357555, 0.5894322002036333, 0.9575601668059605, 0.8935728788162058, 0.3523684829684364, 0.6342632693431856, 0.8812902033934445, 0.7217918449576547, 0.2488937396405706, 0.5253783643099473, 0.18434328572278852, 0.18434328572278852, 0.09217164286139426, 0.8811716020613727, 0.21270308223248302, 0.31905462334872453, 0.4573116267998385, 0.9641354215970486, 0.9661921520535718, 0.6443236293728147, 0.32216181468640737, 0.8966857204489804, 0.37879616002483874, 0.1950098749757503, 0.06874448830080407, 0.13748897660160814, 0.16975679764076104, 0.04910320592914576, 0.9586920682320071, 0.6413151498697903, 0.16876714470257642, 0.16876714470257642, 0.8994955723221459, 0.9406514588485078, 0.22263320286501104, 0.07677006995345208, 0.3070802798138083, 0.07677006995345208, 0.07677006995345208, 0.15354013990690416, 0.07677006995345208, 0.32370663636266467, 0.6474132727253293, 0.3140007909971992, 0.6594016610941182, 0.9676804351224113, 0.5124711275814552, 0.11957659643567287, 0.34164741838763674, 0.3199028046282975, 0.6717958897194248, 0.9737882982033762, 0.9584634536710722, 0.9078171537734813, 0.3373567123048253, 0.640977753379168, 0.23832359241419188, 0.5004795440698029, 0.26215595165561106, 0.6401081826812773, 0.32005409134063867, 0.8966832030629712, 0.9641325182984486, 0.9830023966952455, 0.6202002986941322, 0.21177571174921586, 0.16639520208866962, 0.9662164760614159, 0.2899485434154929, 0.29994676905050993, 0.39992902540067987, 0.8994955723221459, 0.12579440454881188, 0.09612591290994116, 0.1269811442143667, 0.1886916068232178, 0.19225182581988232, 0.11986070622103774, 0.03797566929775453, 0.07832481792661872, 0.035602189966644875, 0.9444586143372562, 0.9078192893553527, 0.8994955723221459, 0.9037640073850702, 0.6419541509038112, 0.11262353524628269, 0.23650942401719363, 0.9751109371901082, 0.9326613027611889, 0.3212486054840216, 0.6424972109680432, 0.9418292930698327, 0.49854769519773445, 0.10303319034086512, 0.046531118218455216, 0.01661825650659115, 0.0997095390395469, 0.21936098588700317, 0.01661825650659115, 0.9770648135117073, 0.4708987479118432, 0.10236929302431375, 0.2047385860486275, 0.21497551535105888, 0.8805478535232639, 0.9078215022909555, 0.9915138642840482, 0.24299981339084697, 0.7289994401725409, 0.9497609032158897, 0.41135354128453094, 0.5673841948752151, 0.5893440293973756, 0.19644800979912522, 0.19644800979912522, 0.2456727381211401, 0.0818909127070467, 0.0818909127070467, 0.4913454762422802, 0.09008000397775137, 0.34506408819700024, 0.6587587138306369, 0.5907786094512476, 0.19692620315041584, 0.19692620315041584, 0.12312951825343625, 0.3693885547603088, 0.2462590365068725, 0.12312951825343625, 0.12312951825343625, 0.9661921530026232, 0.9690636445513812, 0.24541602577937408, 0.7362480773381223, 0.7073383842528915, 0.24756843448851204, 0.9648388635145563, 0.881177139275305, 0.2509284210538791, 0.14760495356110534, 0.5904198142444214, 0.1936622928603014, 0.1936622928603014, 0.6003531078669343, 0.8959074992984594, 0.07639028505579416, 0.10800005818232968, 0.34507335663134603, 0.2107318208435701, 0.02634147760544626, 0.0605853984925264, 0.0711219895347049, 0.047414659689803275, 0.05531710297143715, 0.9669911482596709, 0.4294237565865479, 0.18670598112458606, 0.28005897168687904, 0.09335299056229303, 0.9641325787347914, 0.788750665377356, 0.197187666344339, 0.8959078412912179, 0.9770559351872005, 0.8812995492728165, 0.8966832030629712, 0.967006532492794, 0.8994955723221459, 0.2326277198811467, 0.18237561534371452, 0.09316401403007088, 0.21964122095574287, 0.025408367462746603, 0.09711642674649813, 0.033313192895601106, 0.012421868537342784, 0.06888490734344635, 0.034442453671723175, 0.7108814379295063, 0.2792748506151632, 0.34821648111352477, 0.6331208747518633, 0.9783652712343768, 0.19416594914571866, 0.7960803914974466, 0.3226873432765888, 0.6453746865531776, 0.19349113676508745, 0.19349113676508745, 0.6191716376482799, 0.8811716026435639, 0.964132518335957, 0.4498913448310176, 0.08997826896620352, 0.17995653793240704, 0.26993480689861055, 0.19516939049508508, 0.19516939049508508, 0.1073431647722968, 0.40009725051492445, 0.1073431647722968, 0.8811700437986356, 0.37290415154753637, 0.22855415740010293, 0.27065623902643765, 0.06014583089476393, 0.06616041398424032, 0.9852111354906835, 0.3202878697767069, 0.16014393488835346, 0.5124605916427311, 0.9661825450282138, 0.9662164760614159, 0.24292782859428344, 0.24292782859428344, 0.4858556571885669, 0.9641289508098946, 0.9444586143372562, 0.9641289508098946, 0.8811700437986356, 0.9584620073775878, 0.9661951093408855, 0.31332584517289946, 0.11190208756174981, 0.44760835024699924, 0.11190208756174981, 0.8935721393253439, 0.3314499975004027, 0.6628999950008054, 0.08013625939123163, 0.07285114490111967, 0.05828091592089573, 0.07285114490111967, 0.218553434703359, 0.33511526654515045, 0.1529874042923513, 0.9801086690466907, 0.8966857204489804, 0.8959078414695395, 0.8994955723221459, 0.3509843495030551, 0.13893130501162598, 0.12430695711566536, 0.07312173947980316, 0.08043391342778347, 0.22667739238738976, 0.08976624988154965, 0.1282374998307852, 0.3847124994923556, 0.2564749996615704, 0.14106124981386373, 0.1231449694645953, 0.2462899389291906, 0.38174940534024543, 0.2462899389291906, 0.8959074992984594, 0.9641308256985631, 0.35803531567828006, 0.6086600366530761, 0.2646884338989373, 0.7146587715271308, 0.19104891075208102, 0.2768824793508421, 0.027688247935084207, 0.029072660331838418, 0.13151917769165, 0.027688247935084207, 0.1342880024851584, 0.03184148512534684, 0.12182829091437052, 0.027688247935084207, 0.9661921530026232, 0.8805499039332209, 0.9648275891569829, 0.6480911305263982, 0.3240455652631991, 0.1643810206979362, 0.1643810206979362, 0.4931430620938086, 0.1643810206979362, 0.079916021085569, 0.239748063256707, 0.3036808801251622, 0.3835969012107312, 0.2730985959564135, 0.23975516272917696, 0.19529725175952825, 0.03493121576186684, 0.01587782534630311, 0.06668686645447305, 0.1746560788093342, 0.9648275891569829, 0.9078283063673611, 0.9648302226038267, 0.7161456799958875, 0.2652391407392176, 0.9657695622526875, 0.24283492579574187, 0.11134352492817859, 0.07316860209566022, 0.22162663533323168, 0.02332911950876123, 0.08801440541941737, 0.07847067471128777, 0.08059150375753879, 0.07953108923441328, 0.9641337279450144, 0.9641316111230144, 0.8805477643798977, 0.251851015681902, 0.0923453724166974, 0.17629571097733138, 0.34419638809859937, 0.125925507840951, 0.8966857198461083, 0.21362541837312027, 0.14732787474008294, 0.07366393737004147, 0.22099181211012442, 0.33148771816518663, 0.9341160376611254, 0.8812902033934445, 0.8959078414695395, 0.9545158034824796, 0.47740135255078125, 0.17050048305385046, 0.3410009661077009, 0.8578715453763996, 0.13836637828651607, 0.22076677793897798, 0.44153355587795595, 0.22076677793897798, 0.11038338896948899, 0.9661825450282138, 0.17025254896425593, 0.8172122350284285], \"Term\": [\"1\", \"13\", \"14k\", \"16f\", \"17\", \"2500\", \"25f\", \"25f\", \"3\", \"31\", \"4th\", \"50\", \"69\", \"abortion\", \"accommodate\", \"accountant\", \"acquaintance\", \"adderall\", \"adopt\", \"adult\", \"adult\", \"adult\", \"adult\", \"advance\", \"advance\", \"advisor\", \"afraid\", \"aid\", \"aisle\", \"aita\", \"aita\", \"aita\", \"aita\", \"aita\", \"aita\", \"allowance\", \"alone\", \"amendment\", \"amumble\", \"and\", \"and\", \"annoy\", \"annoy\", \"annoy\", \"answer\", \"anxious\", \"anymore\", \"anymore\", \"apologize\", \"apologize\", \"approval\", \"are\", \"area\", \"ask\", \"ask\", \"ask\", \"ask\", \"ask\", \"ask\", \"ask\", \"ask\", \"ask\", \"asleep\", \"assistant\", \"athens\", \"autistic\", \"autistic\", \"away\", \"away\", \"away\", \"away\", \"away\", \"away\", \"baby\", \"baby\", \"baby\", \"baby\", \"baby\", \"babysitter\", \"bachelorette\", \"bad\", \"bad\", \"bad\", \"bad\", \"baker\", \"bed\", \"bed\", \"bedroom\", \"begin\", \"believe\", \"best\", \"best\", \"best\", \"best\", \"best\", \"bf\", \"bf\", \"bf\", \"bf\", \"bill\", \"birth\", \"birth\", \"birth\", \"birth\", \"birthday\", \"birthday\", \"birthday\", \"birthday\", \"birthday\", \"birthday\", \"birthday\", \"birthday\", \"birthday\", \"blast\", \"blast\", \"blind\", \"blow\", \"blow\", \"blur\", \"body\", \"body\", \"boy\", \"boyfriend\", \"boyfriend\", \"boyfriend\", \"boyfriend\", \"boyfriend\", \"boyfriend\", \"boyfriend\", \"brat\", \"bridesmaid\", \"bridesmaid\", \"bring\", \"bring\", \"bring\", \"bring\", \"brother\", \"brother\", \"brother\", \"brother\", \"brother\", \"brother\", \"brother\", \"brother\", \"brother\", \"buddies\", \"buddy\", \"bus\", \"business\", \"buy\", \"buy\", \"buy\", \"buy\", \"buy\", \"buy\", \"calendar\", \"call\", \"camera\", \"cancel\", \"cancel\", \"car\", \"car\", \"car\", \"car\", \"car\", \"card\", \"care\", \"care\", \"care\", \"care\", \"care\", \"caregiver\", \"cash\", \"cashier\", \"celebrate\", \"cell\", \"certain\", \"chart\", \"cheat\", \"check\", \"check\", \"child\", \"child\", \"child\", \"child\", \"child\", \"childcare\", \"childfree\", \"children\", \"children\", \"children\", \"children\", \"children\", \"clean\", \"clean\", \"clean\", \"clean\", \"clickbait\", \"coach\", \"collect\", \"college\", \"college\", \"college\", \"college\", \"college\", \"college\", \"color\", \"combine\", \"come\", \"come\", \"come\", \"come\", \"come\", \"comment\", \"comment\", \"comment\", \"compare\", \"compete\", \"complain\", \"condone\", \"confidential\", \"conversation\", \"cook\", \"cook\", \"cook\", \"cop\", \"cope\", \"copyright\", \"correct\", \"correctly\", \"counterfeit\", \"couple\", \"couple\", \"court\", \"cow\", \"crash\", \"credit\", \"curb\", \"custody\", \"custody\", \"cut\", \"cut\", \"cut\", \"cut\", \"cute\", \"cute\", \"d\", \"d\", \"dad\", \"dad\", \"dad\", \"dad\", \"dad\", \"dad\", \"dad\", \"dark\", \"date\", \"date\", \"date\", \"date\", \"date\", \"daughter\", \"daughter\", \"daughter\", \"daughter\", \"daughter\", \"daughter\", \"daughter\", \"daughter\", \"daughter\", \"daughter\", \"daughters\", \"daughters\", \"daughters\", \"daughters\", \"day\", \"day\", \"day\", \"day\", \"day\", \"dead\", \"dead\", \"deadbeat\", \"deaf\", \"decease\", \"decease\", \"decease\", \"decide\", \"decide\", \"defend\", \"definitely\", \"deny\", \"destroy\", \"destroy\", \"devices\", \"devil\", \"did\", \"die\", \"die\", \"die\", \"die\", \"dip\", \"divide\", \"document\", \"dog\", \"dog\", \"dog\", \"dog\", \"dog\", \"donate\", \"donate\", \"double\", \"dress\", \"dress\", \"dress\", \"dress\", \"dress\", \"drink\", \"drink\", \"drink\", \"drink\", \"drink\", \"drink\", \"drive\", \"drive\", \"driving\", \"drop\", \"drop\", \"dumb\", \"dumbass\", \"dump\", \"easter\", \"eat\", \"eat\", \"eat\", \"eat\", \"eat\", \"eat\", \"eat\", \"embarrass\", \"embarrass\", \"embarrass\", \"emigrate\", \"emotionally\", \"ence\", \"encourage\", \"engagement\", \"engagement\", \"engagement\", \"enjoy\", \"even\", \"events\", \"ex\", \"ex\", \"ex\", \"ex\", \"ex\", \"ex\", \"ex\", \"ex\", \"exclude\", \"fail\", \"fail\", \"failures\", \"families\", \"family\", \"family\", \"family\", \"family\", \"family\", \"family\", \"family\", \"family\", \"fast\", \"father\", \"father\", \"father\", \"father\", \"father\", \"father\", \"fence\", \"few\", \"fiance\", \"fiance\", \"fiance\", \"fianc\\u00e9\", \"fianc\\u00e9\", \"fifth\", \"fil\", \"file\", \"finance\", \"fired\", \"fleur\", \"flip\", \"flu\", \"flur\", \"flush\", \"flush\", \"food\", \"food\", \"food\", \"food\", \"football\", \"for\", \"for\", \"for\", \"for\", \"for\", \"for\", \"for\", \"for\", \"fragile\", \"friend\", \"friend\", \"friend\", \"friend\", \"friend\", \"friend\", \"friend\", \"friend\", \"friends\", \"friends\", \"friends\", \"friends\", \"frozen\", \"fully\", \"fund\", \"fund\", \"funeral\", \"funeral\", \"funeral\", \"future\", \"future\", \"fwb\", \"gave\", \"get\", \"gf\", \"gf\", \"gf\", \"gf\", \"gf\", \"gf\", \"gf\", \"gf\", \"gift\", \"gift\", \"gift\", \"gift\", \"gift\", \"girl\", \"girl\", \"girl\", \"girl\", \"girl\", \"girlfriend\", \"girlfriend\", \"girlfriend\", \"girlfriend\", \"girlfriend\", \"girlfriend\", \"girlfriend\", \"girlfriend\", \"girlfriends\", \"girlfriends\", \"graduation\", \"grammar\", \"grandchildren\", \"granddaughter\", \"grandmother\", \"grandmother\", \"grandmother\", \"groom\", \"group\", \"group\", \"group\", \"group\", \"h\", \"hair\", \"handicap\", \"handicap\", \"has\", \"hear\", \"hear\", \"hear\", \"heirloom\", \"help\", \"help\", \"help\", \"help\", \"help\", \"help\", \"help\", \"hereditary\", \"herpes\", \"hide\", \"hire\", \"hire\", \"hit\", \"holiday\", \"home\", \"home\", \"home\", \"home\", \"home\", \"home\", \"home\", \"home\", \"homeless\", \"homemade\", \"homophobic\", \"honest\", \"hour\", \"house\", \"house\", \"house\", \"house\", \"house\", \"house\", \"house\", \"house\", \"housewife\", \"huge\", \"husband\", \"husband\", \"husband\", \"husband\", \"husband\", \"husband\", \"husband\", \"i\", \"i\", \"i\", \"i\", \"i\", \"i\", \"i\", \"i\", \"i\", \"i\", \"if\", \"if\", \"if\", \"if\", \"ignore\", \"ill\", \"imply\", \"imply\", \"in\", \"in\", \"in\", \"in\", \"in\", \"income\", \"insist\", \"insist\", \"insist\", \"insist\", \"insistence\", \"instructor\", \"intend\", \"invest\", \"invite\", \"invite\", \"invite\", \"joint\", \"joke\", \"joke\", \"july\", \"kanye\", \"key\", \"kick\", \"kick\", \"kid\", \"kid\", \"kid\", \"kid\", \"kid\", \"kid\", \"kid\", \"kid\", \"kid\", \"kid\", \"language\", \"laugh\", \"laugh\", \"laugh\", \"law\", \"law\", \"law\", \"law\", \"law\", \"law\", \"law\", \"laws\", \"laws\", \"laws\", \"laws\", \"leash\", \"leave\", \"leave\", \"leave\", \"leave\", \"leave\", \"leave\", \"leave\", \"leave\", \"left\", \"let\", \"let\", \"let\", \"let\", \"let\", \"let\", \"let\", \"let\", \"license\", \"lie\", \"lie\", \"lie\", \"lie\", \"lie\", \"lie\", \"like\", \"like\", \"like\", \"like\", \"like\", \"like\", \"like\", \"line\", \"little\", \"little\", \"little\", \"little\", \"live\", \"live\", \"live\", \"live\", \"lock\", \"look\", \"look\", \"look\", \"look\", \"look\", \"lose\", \"lose\", \"lose\", \"lose\", \"lose\", \"loss\", \"lottery\", \"loud\", \"mad\", \"mad\", \"mad\", \"mailbox\", \"makeover\", \"makeup\", \"marie\", \"meals\", \"meals\", \"meals\", \"media\", \"media\", \"mid\", \"middle\", \"middle\", \"mlm\", \"mom\", \"mom\", \"mom\", \"mom\", \"mom\", \"mom\", \"mom\", \"mommy\", \"moms\", \"moms\", \"money\", \"money\", \"money\", \"money\", \"money\", \"money\", \"money\", \"moron\", \"mother\", \"mother\", \"mother\", \"mother\", \"mother\", \"mother\", \"mother\", \"mother\", \"mother\", \"mother\", \"motorcycle\", \"mutual\", \"my\", \"my\", \"my\", \"my\", \"my\", \"n\", \"native\", \"nd\", \"need\", \"need\", \"need\", \"need\", \"need\", \"neighbor\", \"neighbor\", \"neighbor\", \"neighbor\", \"neighbor\", \"nephew\", \"nephew\", \"newborn\", \"newborn\", \"news\", \"nickname\", \"niece\", \"niece\", \"niece\", \"niece\", \"night\", \"night\", \"night\", \"night\", \"night\", \"noise\", \"nonpaying\", \"obligate\", \"old\", \"old\", \"old\", \"older\", \"older\", \"older\", \"order\", \"order\", \"outshine\", \"outside\", \"over\", \"overweight\", \"own\", \"ownership\", \"parent\", \"parent\", \"parent\", \"parent\", \"parent\", \"parent\", \"parental\", \"park\", \"partially\", \"party\", \"party\", \"party\", \"party\", \"party\", \"pasta\", \"paternity\", \"pay\", \"pay\", \"pay\", \"pay\", \"pay\", \"pay\", \"pay\", \"pay\", \"pay\", \"pedestrian\", \"people\", \"people\", \"people\", \"people\", \"people\", \"pervert\", \"phone\", \"phone\", \"phone\", \"pick\", \"pick\", \"piss\", \"piss\", \"piss\", \"piss\", \"plan\", \"plan\", \"plan\", \"plan\", \"planning\", \"plastic\", \"point\", \"point\", \"point\", \"police\", \"police\", \"pool\", \"pray\", \"pregnancy\", \"pregnancy\", \"pregnancy\", \"pregnant\", \"pregnant\", \"pregnant\", \"pregnant\", \"pregnant\", \"pregnant\", \"pregnant\", \"pretty\", \"princess\", \"pro\", \"professionally\", \"pronounce\", \"pronouns\", \"property\", \"property\", \"punishment\", \"racist\", \"reader\", \"recruit\", \"refuse\", \"refuse\", \"refuse\", \"refuse\", \"refuse\", \"refuse\", \"refuse\", \"refuse\", \"refuse\", \"refuse\", \"refused\", \"relationship\", \"relationship\", \"relationship\", \"remain\", \"renewal\", \"report\", \"report\", \"request\", \"resin\", \"return\", \"return\", \"rhyme\", \"right\", \"right\", \"ring\", \"ring\", \"ring\", \"ring\", \"risk\", \"room\", \"room\", \"room\", \"roomba\", \"rosary\", \"ruin\", \"ruin\", \"russian\", \"s\", \"s\", \"s\", \"s\", \"s\", \"s\", \"sacrifice\", \"save\", \"save\", \"save\", \"scenes\", \"schedule\", \"school\", \"school\", \"school\", \"school\", \"school\", \"school\", \"school\", \"scream\", \"scream\", \"seat\", \"seat\", \"secret\", \"send\", \"send\", \"send\", \"separate\", \"separate\", \"serve\", \"service\", \"seventeen\", \"shave\", \"shave\", \"she\", \"she\", \"she\", \"shit\", \"shit\", \"shopping\", \"shorter\", \"shower\", \"siblings\", \"siblings\", \"siblings\", \"significant\", \"sil\", \"sil\", \"sil\", \"since\", \"sister\", \"sister\", \"sister\", \"sister\", \"sister\", \"sister\", \"sister\", \"sister\", \"sister\", \"sitter\", \"skip\", \"skips\", \"slap\", \"sleep\", \"sleep\", \"sleep\", \"sleeve\", \"smoke\", \"snap\", \"snap\", \"somebody\", \"son\", \"son\", \"son\", \"son\", \"son\", \"son\", \"son\", \"soon\", \"spend\", \"spend\", \"spend\", \"spend\", \"spirit\", \"sport\", \"spot\", \"stand\", \"stand\", \"state\", \"stay\", \"stay\", \"steal\", \"steal\", \"steal\", \"step\", \"step\", \"step\", \"step\", \"step\", \"stepsister\", \"stepsister\", \"stepson\", \"stepson\", \"stepson\", \"stop\", \"stop\", \"stop\", \"stop\", \"stop\", \"strictly\", \"suck\", \"sue\", \"sue\", \"suggest\", \"suggest\", \"sunbathe\", \"supply\", \"support\", \"support\", \"support\", \"surprise\", \"surprise\", \"surprise\", \"sweet\", \"t\", \"t\", \"t\", \"t\", \"t\", \"t\", \"t\", \"t\", \"t\", \"tag\", \"talk\", \"talk\", \"talk\", \"talk\", \"tantrums\", \"tattoo\", \"tattoo\", \"tax\", \"teacher\", \"technicality\", \"technically\", \"teen\", \"television\", \"tell\", \"tell\", \"tell\", \"tell\", \"tell\", \"tell\", \"tell\", \"tell\", \"tell\", \"tell\", \"telling\", \"telling\", \"tenant\", \"tenant\", \"terminally\", \"test\", \"test\", \"thanksgiving\", \"thanksgiving\", \"the\", \"the\", \"the\", \"theree\", \"thing\", \"think\", \"think\", \"think\", \"think\", \"throw\", \"throw\", \"throw\", \"throw\", \"throw\", \"tiktok\", \"time\", \"time\", \"time\", \"time\", \"time\", \"tip\", \"to\", \"to\", \"to\", \"today\", \"togethers\", \"toilet\", \"toilet\", \"toilet\", \"touch\", \"town\", \"toxic\", \"train\", \"trampoline\", \"trash\", \"treat\", \"treat\", \"treat\", \"treat\", \"treatment\", \"trip\", \"trip\", \"try\", \"try\", \"try\", \"try\", \"try\", \"try\", \"try\", \"tv\", \"unpaid\", \"unprofessional\", \"up\", \"upset\", \"upset\", \"upset\", \"upset\", \"upset\", \"upset\", \"use\", \"use\", \"use\", \"use\", \"use\", \"vacation\", \"vacation\", \"vacation\", \"vacation\", \"venue\", \"vow\", \"wake\", \"wake\", \"walk\", \"walk\", \"want\", \"want\", \"want\", \"want\", \"want\", \"want\", \"want\", \"want\", \"want\", \"want\", \"ward\", \"warn\", \"wasted\", \"watch\", \"watch\", \"water\", \"water\", \"water\", \"water\", \"wear\", \"wear\", \"wear\", \"wear\", \"wed\", \"wed\", \"wed\", \"wed\", \"wed\", \"wed\", \"wed\", \"wedding\", \"welcome\", \"west\", \"wet\", \"wet\", \"white\", \"wife\", \"wife\", \"wife\", \"wife\", \"wife\", \"wife\", \"wife\", \"wife\", \"wife\", \"window\", \"winnings\", \"with\", \"woman\", \"woman\", \"woman\", \"woman\", \"woman\", \"wore\", \"work\", \"work\", \"work\", \"work\", \"work\", \"worker\", \"workplace\", \"worshiper\", \"wouldn\", \"wrong\", \"wrong\", \"wrong\", \"year\", \"year\", \"yell\", \"yell\", \"yell\", \"yell\", \"yelled\", \"younger\", \"younger\"]}, \"R\": 30, \"lambda.step\": 0.01, \"plot.opts\": {\"xlab\": \"PC1\", \"ylab\": \"PC2\"}, \"topic.order\": [10, 3, 8, 1, 9, 5, 2, 6, 7, 4]};\n",
       "\n",
       "function LDAvis_load_lib(url, callback){\n",
       "  var s = document.createElement('script');\n",
       "  s.src = url;\n",
       "  s.async = true;\n",
       "  s.onreadystatechange = s.onload = callback;\n",
       "  s.onerror = function(){console.warn(\"failed to load library \" + url);};\n",
       "  document.getElementsByTagName(\"head\")[0].appendChild(s);\n",
       "}\n",
       "\n",
       "if(typeof(LDAvis) !== \"undefined\"){\n",
       "   // already loaded: just create the visualization\n",
       "   !function(LDAvis){\n",
       "       new LDAvis(\"#\" + \"ldavis_el64931403817778183369408646653\", ldavis_el64931403817778183369408646653_data);\n",
       "   }(LDAvis);\n",
       "}else if(typeof define === \"function\" && define.amd){\n",
       "   // require.js is available: use it to load d3/LDAvis\n",
       "   require.config({paths: {d3: \"https://d3js.org/d3.v5\"}});\n",
       "   require([\"d3\"], function(d3){\n",
       "      window.d3 = d3;\n",
       "      LDAvis_load_lib(\"https://cdn.jsdelivr.net/gh/bmabey/pyLDAvis@3.3.1/pyLDAvis/js/ldavis.v3.0.0.js\", function(){\n",
       "        new LDAvis(\"#\" + \"ldavis_el64931403817778183369408646653\", ldavis_el64931403817778183369408646653_data);\n",
       "      });\n",
       "    });\n",
       "}else{\n",
       "    // require.js not available: dynamically load d3 & LDAvis\n",
       "    LDAvis_load_lib(\"https://d3js.org/d3.v5.js\", function(){\n",
       "         LDAvis_load_lib(\"https://cdn.jsdelivr.net/gh/bmabey/pyLDAvis@3.3.1/pyLDAvis/js/ldavis.v3.0.0.js\", function(){\n",
       "                 new LDAvis(\"#\" + \"ldavis_el64931403817778183369408646653\", ldavis_el64931403817778183369408646653_data);\n",
       "            })\n",
       "         });\n",
       "}\n",
       "</script>"
      ],
      "text/plain": [
       "<IPython.core.display.HTML object>"
      ]
     },
     "execution_count": 194,
     "metadata": {},
     "output_type": "execute_result"
    }
   ],
   "source": [
    "import pyLDAvis\n",
    "import pyLDAvis.gensim_models as gensimvis\n",
    "visual =  gensimvis.prepare(aitamodel, aitacorp, aitadict)\n",
    "pyLDAvis.enable_notebook()\n",
    "pyLDAvis.display(visual)"
   ]
  },
  {
   "cell_type": "markdown",
   "id": "11aba2c4",
   "metadata": {},
   "source": [
    "## Classification"
   ]
  },
  {
   "cell_type": "code",
   "execution_count": 201,
   "id": "14001094",
   "metadata": {},
   "outputs": [
    {
     "name": "stderr",
     "output_type": "stream",
     "text": [
      "/Users/duongton/opt/anaconda3/lib/python3.8/site-packages/ipykernel/ipkernel.py:287: DeprecationWarning:\n",
      "\n",
      "`should_run_async` will not call `transform_cell` automatically in the future. Please pass the result to `transformed_cell` argument and any exception that happen during thetransform in `preprocessing_exc_tuple` in IPython 7.17 and above.\n",
      "\n"
     ]
    }
   ],
   "source": [
    "df.to_csv('aita.csv', index=False)"
   ]
  },
  {
   "cell_type": "code",
   "execution_count": 16,
   "id": "e8855fe5",
   "metadata": {},
   "outputs": [],
   "source": [
    "from sklearn.feature_extraction.text import CountVectorizer, TfidfTransformer\n",
    "from sklearn.naive_bayes import MultinomialNB\n",
    "from sklearn.svm import SVC\n",
    "from sklearn.metrics import accuracy_score, confusion_matrix\n",
    "from textblob import TextBlob\n",
    "from sklearn.pipeline import Pipeline\n",
    "from sklearn.model_selection import train_test_split\n",
    "import numpy as np\n",
    "from sklearn.model_selection import cross_val_score\n",
    "from sklearn.metrics import classification_report\n",
    "from collections import Counter\n",
    "from wordcloud import WordCloud\n",
    "import matplotlib.pyplot as plt\n",
    "from sklearn.ensemble import RandomForestClassifier\n",
    "from sklearn.svm import SVC\n",
    "from sklearn.linear_model import LogisticRegression\n",
    "from matplotlib import pyplot as plt\n",
    "from sklearn.model_selection import GridSearchCV\n",
    "import re\n"
   ]
  },
  {
   "cell_type": "code",
   "execution_count": 17,
   "id": "f1ed9bbd",
   "metadata": {},
   "outputs": [],
   "source": [
    "def text_preprocessor(text):\n",
    "    return \" \".join(re.sub(r\"(@[A-Za-z0-9]+)|([^0-9A-Za-z \\t])|(\\w+:\\/\\/\\S+)|^rt|http.+?#\", \" \", text.lower()).split())\n",
    "\n",
    "df['processed_text'] = df['text'].apply(lambda x: text_preprocessor(x))"
   ]
  },
  {
   "cell_type": "code",
   "execution_count": 19,
   "id": "83665670",
   "metadata": {},
   "outputs": [],
   "source": [
    "from sklearn.model_selection import train_test_split\n",
    "ASS_train, ASS_test, label_train, label_test = train_test_split(df['text'], df['Asshole'], test_size=0.2, random_state=1)\n",
    "from sklearn.naive_bayes import GaussianNB"
   ]
  },
  {
   "cell_type": "markdown",
   "id": "1e6c4140",
   "metadata": {},
   "source": [
    "### Naive Bayes"
   ]
  },
  {
   "cell_type": "markdown",
   "id": "37e5de9a",
   "metadata": {},
   "source": [
    "#### MultinomialNB"
   ]
  },
  {
   "cell_type": "code",
   "execution_count": 24,
   "id": "d653512b",
   "metadata": {},
   "outputs": [
    {
     "name": "stdout",
     "output_type": "stream",
     "text": [
      "              precision    recall  f1-score   support\n",
      "\n",
      "           0       0.88      0.99      0.93       910\n",
      "           1       0.99      0.86      0.92       848\n",
      "\n",
      "    accuracy                           0.93      1758\n",
      "   macro avg       0.94      0.93      0.93      1758\n",
      "weighted avg       0.94      0.93      0.93      1758\n",
      "\n"
     ]
    }
   ],
   "source": [
    "from sklearn.naive_bayes import MultinomialNB\n",
    "pipelineMNB = Pipeline([\n",
    "    ('vect', CountVectorizer(preprocessor=text_preprocessor)),\n",
    "    ('tfidf',TfidfTransformer()),\n",
    "    ('clf', MultinomialNB())\n",
    "])\n",
    "# Fit the pipeline to the ASS_training data\n",
    "pipelineMNB.fit(ASS_train, label_train)\n",
    "# Make predictions on the test data\n",
    "predictions = pipelineMNB.predict(ASS_test)\n",
    "# Print classification report\n",
    "print(classification_report(label_test, predictions))\n"
   ]
  },
  {
   "cell_type": "markdown",
   "id": "50114f87",
   "metadata": {},
   "source": [
    "### Support Vector Classification\n"
   ]
  },
  {
   "cell_type": "code",
   "execution_count": 249,
   "id": "2b3afd50",
   "metadata": {},
   "outputs": [
    {
     "name": "stderr",
     "output_type": "stream",
     "text": [
      "/Users/duongton/opt/anaconda3/lib/python3.8/site-packages/ipykernel/ipkernel.py:287: DeprecationWarning:\n",
      "\n",
      "`should_run_async` will not call `transform_cell` automatically in the future. Please pass the result to `transformed_cell` argument and any exception that happen during thetransform in `preprocessing_exc_tuple` in IPython 7.17 and above.\n",
      "\n"
     ]
    },
    {
     "name": "stdout",
     "output_type": "stream",
     "text": [
      "Fitting 5 folds for each of 9 candidates, totalling 45 fits\n",
      "Best parameters: {'clf__C': 1, 'vect__max_df': 0.5}\n",
      "Best score: 0.9398391096741451\n",
      "Test accuracy: 0.9334470989761092\n"
     ]
    }
   ],
   "source": [
    "# Support Vector Classification\n",
    "# Support Vector Classification\n",
    "pipeline_svc = Pipeline([\n",
    "    ('vect', CountVectorizer(preprocessor=text_preprocessor)),\n",
    "    ('tfidf',TfidfTransformer()),\n",
    "    ('clf', SVC(kernel='linear', C=2.0))\n",
    "])\n",
    "\n",
    "# Fit the pipeline to the training data\n",
    "pipeline_svc.fit(ASS_train, label_train)\n",
    "\n",
    "# Make predictions on the test data\n",
    "predictions_svc = pipeline_svc.predict(ASS_test)\n",
    "# Set the range of hyperparameter values to search over\n",
    "param_grid = {\n",
    "    'vect__max_df': [0.5, 0.75, 1.0],\n",
    "    'clf__C': [0.1, 1, 10]\n",
    "}\n",
    "\n",
    "# Perform grid search cross-validation to find the best hyperparameters\n",
    "grid_search = GridSearchCV(pipeline_svc, param_grid=param_grid, cv=5, n_jobs=-1, verbose=1)\n",
    "grid_search.fit(ASS_train, label_train)\n",
    "\n",
    "# Print the best hyperparameters and the corresponding accuracy score on the validation set\n",
    "print(\"Best parameters:\", grid_search.best_params_)\n",
    "print(\"Best score:\", grid_search.best_score_)\n",
    "\n",
    "# Make predictions on the test set using the best hyperparameters\n",
    "best_pipeline = grid_search.best_estimator_\n",
    "predictions = best_pipeline.predict(ASS_test)\n",
    "accuracy = accuracy_score(label_test, predictions)\n",
    "print(\"Test accuracy:\", accuracy)\n"
   ]
  },
  {
   "cell_type": "code",
   "execution_count": 20,
   "id": "f1a6159f",
   "metadata": {},
   "outputs": [
    {
     "name": "stdout",
     "output_type": "stream",
     "text": [
      "[[910   0]\n",
      " [117 731]]\n",
      "Test accuracy: 0.9334470989761092\n"
     ]
    }
   ],
   "source": [
    "# Define the pipeline\n",
    "pipeline_svc = Pipeline([\n",
    "    ('vect', CountVectorizer(preprocessor=text_preprocessor, max_df=0.5)),\n",
    "    ('tfidf',TfidfTransformer()),\n",
    "    ('clf', SVC(kernel='linear', C=1))\n",
    "])\n",
    "\n",
    "# Fit the pipeline to the ASS_training data\n",
    "pipeline_svc.fit(ASS_train, label_train)\n",
    "\n",
    "# Make predictions on the test data\n",
    "predictions_svc = pipeline_svc.predict(ASS_test)\n",
    "\n",
    "# Print confusion matrix\n",
    "print(confusion_matrix(label_test, predictions_svc))\n",
    "\n",
    "# Compute accuracy score\n",
    "accuracy = accuracy_score(label_test, predictions_svc)\n",
    "print(\"Test accuracy:\", accuracy)"
   ]
  },
  {
   "cell_type": "markdown",
   "id": "ec4a326d",
   "metadata": {},
   "source": [
    "### Random Forest"
   ]
  },
  {
   "cell_type": "code",
   "execution_count": 247,
   "id": "80b9e8f3",
   "metadata": {},
   "outputs": [
    {
     "name": "stdout",
     "output_type": "stream",
     "text": [
      "Fitting 5 folds for each of 10 candidates, totalling 50 fits\n"
     ]
    },
    {
     "name": "stderr",
     "output_type": "stream",
     "text": [
      "/Users/duongton/opt/anaconda3/lib/python3.8/site-packages/ipykernel/ipkernel.py:287: DeprecationWarning:\n",
      "\n",
      "`should_run_async` will not call `transform_cell` automatically in the future. Please pass the result to `transformed_cell` argument and any exception that happen during thetransform in `preprocessing_exc_tuple` in IPython 7.17 and above.\n",
      "\n"
     ]
    },
    {
     "name": "stdout",
     "output_type": "stream",
     "text": [
      "Best parameters: {'clf__max_depth': 990}\n",
      "Best score: 0.9398391096741451\n"
     ]
    }
   ],
   "source": [
    "# Set the range of hyperparameter values to search over\n",
    "pipeline_rf = Pipeline([\n",
    "    ('vect', CountVectorizer(preprocessor=text_preprocessor,ngram_range=(1, 2))),\n",
    "    ('tfidf',TfidfTransformer()),\n",
    "    ('clf', RandomForestClassifier(max_depth=990))\n",
    "])\n",
    "param_grid = {\n",
    "    'clf__max_depth': range(990,1000)\n",
    "}\n",
    "\n",
    "# Perform grid search cross-validation to find the best hyperparameters\n",
    "grid_search = GridSearchCV(pipeline_rf, param_grid=param_grid, cv=5, n_jobs=-1, verbose=1)\n",
    "grid_search.fit(ASS_train, label_train)\n",
    "\n",
    "# Print the best hyperparameters and the corresponding accuracy score on the validation set\n",
    "print(\"Best parameters:\", grid_search.best_params_)\n",
    "print(\"Best score:\", grid_search.best_score_)"
   ]
  },
  {
   "cell_type": "code",
   "execution_count": 250,
   "id": "9594a77b",
   "metadata": {},
   "outputs": [
    {
     "name": "stderr",
     "output_type": "stream",
     "text": [
      "/Users/duongton/opt/anaconda3/lib/python3.8/site-packages/ipykernel/ipkernel.py:287: DeprecationWarning:\n",
      "\n",
      "`should_run_async` will not call `transform_cell` automatically in the future. Please pass the result to `transformed_cell` argument and any exception that happen during thetransform in `preprocessing_exc_tuple` in IPython 7.17 and above.\n",
      "\n"
     ]
    },
    {
     "name": "stdout",
     "output_type": "stream",
     "text": [
      "Accuracy: 0.9334470989761092\n"
     ]
    }
   ],
   "source": [
    "# Random forrest Classifier with hyperparameter\n",
    "pipeline_rf = Pipeline([\n",
    "    ('vect', CountVectorizer(preprocessor=text_preprocessor,ngram_range=(1, 2))),\n",
    "    ('tfidf',TfidfTransformer()),\n",
    "    ('clf', RandomForestClassifier(max_depth=990))\n",
    "])\n",
    "# Fit the pipeline to the ASS_training data\n",
    "pipeline_rf.fit(ASS_train, label_train)\n",
    "\n",
    "# Make predictions on the test data\n",
    "predictions_rf = pipeline_rf.predict(ASS_test)\n",
    "# Print accuracy score\n",
    "print(\"Accuracy:\", accuracy_score(label_test, predictions_rf))"
   ]
  },
  {
   "cell_type": "markdown",
   "id": "fdf13778",
   "metadata": {},
   "source": [
    "#### Logistic Regression"
   ]
  },
  {
   "cell_type": "code",
   "execution_count": 246,
   "id": "a4fc0dde",
   "metadata": {},
   "outputs": [
    {
     "name": "stderr",
     "output_type": "stream",
     "text": [
      "/Users/duongton/opt/anaconda3/lib/python3.8/site-packages/ipykernel/ipkernel.py:287: DeprecationWarning:\n",
      "\n",
      "`should_run_async` will not call `transform_cell` automatically in the future. Please pass the result to `transformed_cell` argument and any exception that happen during thetransform in `preprocessing_exc_tuple` in IPython 7.17 and above.\n",
      "\n"
     ]
    },
    {
     "name": "stdout",
     "output_type": "stream",
     "text": [
      "Accuracy: 0.9334470989761092\n",
      "[[910   0]\n",
      " [117 731]]\n"
     ]
    }
   ],
   "source": [
    "# Logistic Regression Classifier\n",
    "pipeline_l = Pipeline([\n",
    "    ('vect', CountVectorizer(preprocessor=text_preprocessor)),\n",
    "    ('tfidf',TfidfTransformer()),\n",
    "    ('clf', LogisticRegression())\n",
    "])\n",
    "\n",
    "# Fit the pipeline to the ASS_training data\n",
    "pipeline_l.fit(ASS_train, label_train)\n",
    "\n",
    "# Make predictions on the test data\n",
    "predictions_l = pipeline_l.predict(ASS_test)\n",
    "# Print accuracy score\n",
    "print(\"Accuracy:\", accuracy_score(label_test, predictions_l))\n",
    "# Print confusion matrix\n",
    "print(confusion_matrix(label_test, predictions_l))\n"
   ]
  },
  {
   "cell_type": "markdown",
   "id": "27b26462",
   "metadata": {},
   "source": [
    "#### Neural Net"
   ]
  },
  {
   "cell_type": "code",
   "execution_count": 25,
   "id": "2a631d1d",
   "metadata": {},
   "outputs": [
    {
     "ename": "NameError",
     "evalue": "name 'pipeline_perc' is not defined",
     "output_type": "error",
     "traceback": [
      "\u001b[0;31m---------------------------------------------------------------------------\u001b[0m",
      "\u001b[0;31mNameError\u001b[0m                                 Traceback (most recent call last)",
      "\u001b[0;32m<ipython-input-25-caa305886673>\u001b[0m in \u001b[0;36m<module>\u001b[0;34m\u001b[0m\n\u001b[1;32m     14\u001b[0m \u001b[0;34m\u001b[0m\u001b[0m\n\u001b[1;32m     15\u001b[0m \u001b[0;31m# Fit the pipeline to the ASS_training data\u001b[0m\u001b[0;34m\u001b[0m\u001b[0;34m\u001b[0m\u001b[0;34m\u001b[0m\u001b[0m\n\u001b[0;32m---> 16\u001b[0;31m \u001b[0mpipeline_perc\u001b[0m\u001b[0;34m.\u001b[0m\u001b[0mfit\u001b[0m\u001b[0;34m(\u001b[0m\u001b[0mASS_train\u001b[0m\u001b[0;34m,\u001b[0m \u001b[0mlabel_train\u001b[0m\u001b[0;34m)\u001b[0m\u001b[0;34m\u001b[0m\u001b[0;34m\u001b[0m\u001b[0m\n\u001b[0m\u001b[1;32m     17\u001b[0m \u001b[0;34m\u001b[0m\u001b[0m\n\u001b[1;32m     18\u001b[0m \u001b[0;31m# Make predictions on the test data\u001b[0m\u001b[0;34m\u001b[0m\u001b[0;34m\u001b[0m\u001b[0;34m\u001b[0m\u001b[0m\n",
      "\u001b[0;31mNameError\u001b[0m: name 'pipeline_perc' is not defined"
     ]
    }
   ],
   "source": [
    "from sklearn.linear_model import Perceptron\n",
    "\n",
    "# Build the pipeline with Perceptron classifier and TF-IDF transformation\n",
    "\n",
    "pipeline_perc = Pipeline([\n",
    "    ('vect', CountVectorizer(preprocessor=text_preprocessor)),\n",
    "    ('tfidf', TfidfTransformer()),\n",
    "    ('clf', Perceptron())\n",
    "])\n",
    "\n",
    "# Fit the pipeline to the ASS_training data\n",
    "pipeline_perc.fit(ASS_train, label_train)\n",
    "\n",
    "# Make predictions on the test data\n",
    "predictions_perc = pipeline_perc.predict(ASS_test)\n",
    "# Print accuracy score\n",
    "print(\"Accuracy:\", accuracy_score(label_test, predictions_perc))\n",
    "# Print confusion matrix\n",
    "print(confusion_matrix(label_test, predictions_perc))"
   ]
  },
  {
   "cell_type": "markdown",
   "metadata": {},
   "source": [
    "NB"
   ]
  },
  {
   "cell_type": "markdown",
   "id": "b55e2274",
   "metadata": {},
   "source": [
    "## Demo"
   ]
  },
  {
   "cell_type": "code",
   "execution_count": 33,
   "id": "663d3bba",
   "metadata": {},
   "outputs": [],
   "source": [
    "def show(text):\n",
    "    a = []\n",
    "    a.append(text)\n",
    "    #if pipeline_rf.predict(a)[0]==1:\n",
    "    #if pipelineMNB.predict(a)[0]==1:\n",
    "    if pipeline_svc.predict(a)[0]==1:\n",
    "        b = \"You are the asshole\"\n",
    "    else:\n",
    "        b = \"You're not the asshole\"\n",
    "    return b"
   ]
  },
  {
   "cell_type": "code",
   "execution_count": 35,
   "id": "ad12c18a",
   "metadata": {},
   "outputs": [
    {
     "name": "stdout",
     "output_type": "stream",
     "text": [
      "Running on local URL:  http://127.0.0.1:7866\n",
      "Running on public URL: https://ec68f5055d4443c182.gradio.live\n",
      "\n",
      "This share link expires in 72 hours. For free permanent hosting and GPU upgrades (NEW!), check out Spaces: https://huggingface.co/spaces\n"
     ]
    },
    {
     "data": {
      "text/html": [
       "<div><iframe src=\"https://ec68f5055d4443c182.gradio.live\" width=\"100%\" height=\"500\" allow=\"autoplay; camera; microphone; clipboard-read; clipboard-write;\" frameborder=\"0\" allowfullscreen></iframe></div>"
      ],
      "text/plain": [
       "<IPython.core.display.HTML object>"
      ]
     },
     "metadata": {},
     "output_type": "display_data"
    },
    {
     "data": {
      "text/plain": []
     },
     "execution_count": 35,
     "metadata": {},
     "output_type": "execute_result"
    }
   ],
   "source": [
    "import gradio as gr\n",
    "iface = gr.Interface(fn=show, inputs=\"text\", outputs=\"text\")\n",
    "iface.launch(share = True)"
   ]
  }
 ],
 "metadata": {
  "interpreter": {
   "hash": "02b054418e8b7623715f07c2b57065d1c197756d77d57347226baa5a1e2863e8"
  },
  "kernelspec": {
   "display_name": "Python 3.8.8 ('base')",
   "language": "python",
   "name": "python3"
  },
  "language_info": {
   "codemirror_mode": {
    "name": "ipython",
    "version": 3
   },
   "file_extension": ".py",
   "mimetype": "text/x-python",
   "name": "python",
   "nbconvert_exporter": "python",
   "pygments_lexer": "ipython3",
   "version": "3.8.8"
  }
 },
 "nbformat": 4,
 "nbformat_minor": 5
}
